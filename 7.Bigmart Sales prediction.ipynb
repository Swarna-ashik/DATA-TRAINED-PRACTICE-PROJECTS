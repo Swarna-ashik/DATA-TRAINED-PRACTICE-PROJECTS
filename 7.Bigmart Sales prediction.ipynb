{
 "cells": [
  {
   "cell_type": "markdown",
   "id": "70cccfc8",
   "metadata": {},
   "source": [
    "# Big Data Mart Sales Problem\n",
    "Problem Statement:"
   ]
  },
  {
   "cell_type": "markdown",
   "id": "b4925ede",
   "metadata": {},
   "source": [
    "\n",
    "The data scientists at BigMart have collected 2013 sales data for 1559 products across 10 stores in different cities. Also, certain attributes of each product and store have been defined. The aim is to build a predictive model and find out the sales of each product at a particular store.\n",
    "\n",
    "Using this model, BigMart will try to understand the properties of products and stores which play a key role in increasing the sales of their products.\n",
    "\n",
    "The dataset includes two files:\n",
    "\n",
    "- bigdatamart_Train.csv: Use this file for the model building purpose. \n",
    "\n",
    "- bigdatamart_Test.csv: Use this file for getting predictions from the trained model. "
   ]
  },
  {
   "cell_type": "markdown",
   "id": "74d940ce",
   "metadata": {},
   "source": [
    "# Case details"
   ]
  },
  {
   "cell_type": "markdown",
   "id": "de36f8c5",
   "metadata": {},
   "source": [
    "we have data point of 10 bigmart store from 10 different cities. it was taken in the year of 2013. dataset has various columns whcih provids the details the store, store location, prodcuts details, size of the store and many more columns. Basis the available data points we have to predict the sales of the stores. A regression problem."
   ]
  },
  {
   "cell_type": "markdown",
   "id": "e09841b5",
   "metadata": {},
   "source": [
    "Features description:\n",
    "Item_Identifier == is the unique product ID\n",
    "Item_Weight\n",
    "Item_Fat_Content == weather the product has low or high fat\n",
    "Item_Visibility = The % of total display area of all product in a store alloted to a particular product\n",
    "Item_MRP\n",
    "Outlet_Identifier == store iD\n",
    "Outlet_Establishment_Year Outlet_Size Outlet_Location_Type == type of city in which store is located Outlet_Type === is store a grocery store or super market Item_Outlet_Sales == sales of the store"
   ]
  },
  {
   "cell_type": "markdown",
   "id": "10c30521",
   "metadata": {},
   "source": [
    "We have similar informaton in our test dataset as well, the only difference is that it doesnt have any target variable"
   ]
  },
  {
   "cell_type": "code",
   "execution_count": 2,
   "id": "9e4ba631",
   "metadata": {},
   "outputs": [
    {
     "data": {
      "text/html": [
       "<div>\n",
       "<style scoped>\n",
       "    .dataframe tbody tr th:only-of-type {\n",
       "        vertical-align: middle;\n",
       "    }\n",
       "\n",
       "    .dataframe tbody tr th {\n",
       "        vertical-align: top;\n",
       "    }\n",
       "\n",
       "    .dataframe thead th {\n",
       "        text-align: right;\n",
       "    }\n",
       "</style>\n",
       "<table border=\"1\" class=\"dataframe\">\n",
       "  <thead>\n",
       "    <tr style=\"text-align: right;\">\n",
       "      <th></th>\n",
       "      <th>Item_Identifier</th>\n",
       "      <th>Item_Weight</th>\n",
       "      <th>Item_Fat_Content</th>\n",
       "      <th>Item_Visibility</th>\n",
       "      <th>Item_Type</th>\n",
       "      <th>Item_MRP</th>\n",
       "      <th>Outlet_Identifier</th>\n",
       "      <th>Outlet_Establishment_Year</th>\n",
       "      <th>Outlet_Size</th>\n",
       "      <th>Outlet_Location_Type</th>\n",
       "      <th>Outlet_Type</th>\n",
       "      <th>Item_Outlet_Sales</th>\n",
       "    </tr>\n",
       "  </thead>\n",
       "  <tbody>\n",
       "    <tr>\n",
       "      <th>0</th>\n",
       "      <td>FDA15</td>\n",
       "      <td>9.30</td>\n",
       "      <td>Low Fat</td>\n",
       "      <td>0.016047</td>\n",
       "      <td>Dairy</td>\n",
       "      <td>249.8092</td>\n",
       "      <td>OUT049</td>\n",
       "      <td>1999</td>\n",
       "      <td>Medium</td>\n",
       "      <td>Tier 1</td>\n",
       "      <td>Supermarket Type1</td>\n",
       "      <td>3735.1380</td>\n",
       "    </tr>\n",
       "    <tr>\n",
       "      <th>1</th>\n",
       "      <td>DRC01</td>\n",
       "      <td>5.92</td>\n",
       "      <td>Regular</td>\n",
       "      <td>0.019278</td>\n",
       "      <td>Soft Drinks</td>\n",
       "      <td>48.2692</td>\n",
       "      <td>OUT018</td>\n",
       "      <td>2009</td>\n",
       "      <td>Medium</td>\n",
       "      <td>Tier 3</td>\n",
       "      <td>Supermarket Type2</td>\n",
       "      <td>443.4228</td>\n",
       "    </tr>\n",
       "    <tr>\n",
       "      <th>2</th>\n",
       "      <td>FDN15</td>\n",
       "      <td>17.50</td>\n",
       "      <td>Low Fat</td>\n",
       "      <td>0.016760</td>\n",
       "      <td>Meat</td>\n",
       "      <td>141.6180</td>\n",
       "      <td>OUT049</td>\n",
       "      <td>1999</td>\n",
       "      <td>Medium</td>\n",
       "      <td>Tier 1</td>\n",
       "      <td>Supermarket Type1</td>\n",
       "      <td>2097.2700</td>\n",
       "    </tr>\n",
       "    <tr>\n",
       "      <th>3</th>\n",
       "      <td>FDX07</td>\n",
       "      <td>19.20</td>\n",
       "      <td>Regular</td>\n",
       "      <td>0.000000</td>\n",
       "      <td>Fruits and Vegetables</td>\n",
       "      <td>182.0950</td>\n",
       "      <td>OUT010</td>\n",
       "      <td>1998</td>\n",
       "      <td>NaN</td>\n",
       "      <td>Tier 3</td>\n",
       "      <td>Grocery Store</td>\n",
       "      <td>732.3800</td>\n",
       "    </tr>\n",
       "    <tr>\n",
       "      <th>4</th>\n",
       "      <td>NCD19</td>\n",
       "      <td>8.93</td>\n",
       "      <td>Low Fat</td>\n",
       "      <td>0.000000</td>\n",
       "      <td>Household</td>\n",
       "      <td>53.8614</td>\n",
       "      <td>OUT013</td>\n",
       "      <td>1987</td>\n",
       "      <td>High</td>\n",
       "      <td>Tier 3</td>\n",
       "      <td>Supermarket Type1</td>\n",
       "      <td>994.7052</td>\n",
       "    </tr>\n",
       "  </tbody>\n",
       "</table>\n",
       "</div>"
      ],
      "text/plain": [
       "  Item_Identifier  Item_Weight Item_Fat_Content  Item_Visibility  \\\n",
       "0           FDA15         9.30          Low Fat         0.016047   \n",
       "1           DRC01         5.92          Regular         0.019278   \n",
       "2           FDN15        17.50          Low Fat         0.016760   \n",
       "3           FDX07        19.20          Regular         0.000000   \n",
       "4           NCD19         8.93          Low Fat         0.000000   \n",
       "\n",
       "               Item_Type  Item_MRP Outlet_Identifier  \\\n",
       "0                  Dairy  249.8092            OUT049   \n",
       "1            Soft Drinks   48.2692            OUT018   \n",
       "2                   Meat  141.6180            OUT049   \n",
       "3  Fruits and Vegetables  182.0950            OUT010   \n",
       "4              Household   53.8614            OUT013   \n",
       "\n",
       "   Outlet_Establishment_Year Outlet_Size Outlet_Location_Type  \\\n",
       "0                       1999      Medium               Tier 1   \n",
       "1                       2009      Medium               Tier 3   \n",
       "2                       1999      Medium               Tier 1   \n",
       "3                       1998         NaN               Tier 3   \n",
       "4                       1987        High               Tier 3   \n",
       "\n",
       "         Outlet_Type  Item_Outlet_Sales  \n",
       "0  Supermarket Type1          3735.1380  \n",
       "1  Supermarket Type2           443.4228  \n",
       "2  Supermarket Type1          2097.2700  \n",
       "3      Grocery Store           732.3800  \n",
       "4  Supermarket Type1           994.7052  "
      ]
     },
     "execution_count": 2,
     "metadata": {},
     "output_type": "execute_result"
    }
   ],
   "source": [
    "import pandas as pd\n",
    "bigmart_train_ds = pd.read_csv(\"Bigdatamart_train.csv\")\n",
    "bigmart_test_ds =  pd.read_csv(\"Bigdatamart_test.csv\")\n",
    "bigmart_train_ds.head()"
   ]
  },
  {
   "cell_type": "code",
   "execution_count": 3,
   "id": "21bdfb1a",
   "metadata": {},
   "outputs": [
    {
     "name": "stdout",
     "output_type": "stream",
     "text": [
      "Train data shape (8523, 12) ,Test Data shape (5681, 11)\n"
     ]
    }
   ],
   "source": [
    "print(\"Train data shape\",bigmart_train_ds.shape,\",\" \"Test Data shape\", bigmart_test_ds.shape)\n"
   ]
  },
  {
   "cell_type": "code",
   "execution_count": 4,
   "id": "92e98a71",
   "metadata": {},
   "outputs": [
    {
     "data": {
      "text/html": [
       "<div>\n",
       "<style scoped>\n",
       "    .dataframe tbody tr th:only-of-type {\n",
       "        vertical-align: middle;\n",
       "    }\n",
       "\n",
       "    .dataframe tbody tr th {\n",
       "        vertical-align: top;\n",
       "    }\n",
       "\n",
       "    .dataframe thead th {\n",
       "        text-align: right;\n",
       "    }\n",
       "</style>\n",
       "<table border=\"1\" class=\"dataframe\">\n",
       "  <thead>\n",
       "    <tr style=\"text-align: right;\">\n",
       "      <th></th>\n",
       "      <th>Item_Identifier</th>\n",
       "      <th>Item_Weight</th>\n",
       "      <th>Item_Fat_Content</th>\n",
       "      <th>Item_Visibility</th>\n",
       "      <th>Item_Type</th>\n",
       "      <th>Item_MRP</th>\n",
       "      <th>Outlet_Identifier</th>\n",
       "      <th>Outlet_Establishment_Year</th>\n",
       "      <th>Outlet_Size</th>\n",
       "      <th>Outlet_Location_Type</th>\n",
       "      <th>Outlet_Type</th>\n",
       "    </tr>\n",
       "  </thead>\n",
       "  <tbody>\n",
       "    <tr>\n",
       "      <th>0</th>\n",
       "      <td>FDW58</td>\n",
       "      <td>20.750</td>\n",
       "      <td>Low Fat</td>\n",
       "      <td>0.007565</td>\n",
       "      <td>Snack Foods</td>\n",
       "      <td>107.8622</td>\n",
       "      <td>OUT049</td>\n",
       "      <td>1999</td>\n",
       "      <td>Medium</td>\n",
       "      <td>Tier 1</td>\n",
       "      <td>Supermarket Type1</td>\n",
       "    </tr>\n",
       "    <tr>\n",
       "      <th>1</th>\n",
       "      <td>FDW14</td>\n",
       "      <td>8.300</td>\n",
       "      <td>reg</td>\n",
       "      <td>0.038428</td>\n",
       "      <td>Dairy</td>\n",
       "      <td>87.3198</td>\n",
       "      <td>OUT017</td>\n",
       "      <td>2007</td>\n",
       "      <td>NaN</td>\n",
       "      <td>Tier 2</td>\n",
       "      <td>Supermarket Type1</td>\n",
       "    </tr>\n",
       "    <tr>\n",
       "      <th>2</th>\n",
       "      <td>NCN55</td>\n",
       "      <td>14.600</td>\n",
       "      <td>Low Fat</td>\n",
       "      <td>0.099575</td>\n",
       "      <td>Others</td>\n",
       "      <td>241.7538</td>\n",
       "      <td>OUT010</td>\n",
       "      <td>1998</td>\n",
       "      <td>NaN</td>\n",
       "      <td>Tier 3</td>\n",
       "      <td>Grocery Store</td>\n",
       "    </tr>\n",
       "    <tr>\n",
       "      <th>3</th>\n",
       "      <td>FDQ58</td>\n",
       "      <td>7.315</td>\n",
       "      <td>Low Fat</td>\n",
       "      <td>0.015388</td>\n",
       "      <td>Snack Foods</td>\n",
       "      <td>155.0340</td>\n",
       "      <td>OUT017</td>\n",
       "      <td>2007</td>\n",
       "      <td>NaN</td>\n",
       "      <td>Tier 2</td>\n",
       "      <td>Supermarket Type1</td>\n",
       "    </tr>\n",
       "    <tr>\n",
       "      <th>4</th>\n",
       "      <td>FDY38</td>\n",
       "      <td>NaN</td>\n",
       "      <td>Regular</td>\n",
       "      <td>0.118599</td>\n",
       "      <td>Dairy</td>\n",
       "      <td>234.2300</td>\n",
       "      <td>OUT027</td>\n",
       "      <td>1985</td>\n",
       "      <td>Medium</td>\n",
       "      <td>Tier 3</td>\n",
       "      <td>Supermarket Type3</td>\n",
       "    </tr>\n",
       "  </tbody>\n",
       "</table>\n",
       "</div>"
      ],
      "text/plain": [
       "  Item_Identifier  Item_Weight Item_Fat_Content  Item_Visibility    Item_Type  \\\n",
       "0           FDW58       20.750          Low Fat         0.007565  Snack Foods   \n",
       "1           FDW14        8.300              reg         0.038428        Dairy   \n",
       "2           NCN55       14.600          Low Fat         0.099575       Others   \n",
       "3           FDQ58        7.315          Low Fat         0.015388  Snack Foods   \n",
       "4           FDY38          NaN          Regular         0.118599        Dairy   \n",
       "\n",
       "   Item_MRP Outlet_Identifier  Outlet_Establishment_Year Outlet_Size  \\\n",
       "0  107.8622            OUT049                       1999      Medium   \n",
       "1   87.3198            OUT017                       2007         NaN   \n",
       "2  241.7538            OUT010                       1998         NaN   \n",
       "3  155.0340            OUT017                       2007         NaN   \n",
       "4  234.2300            OUT027                       1985      Medium   \n",
       "\n",
       "  Outlet_Location_Type        Outlet_Type  \n",
       "0               Tier 1  Supermarket Type1  \n",
       "1               Tier 2  Supermarket Type1  \n",
       "2               Tier 3      Grocery Store  \n",
       "3               Tier 2  Supermarket Type1  \n",
       "4               Tier 3  Supermarket Type3  "
      ]
     },
     "execution_count": 4,
     "metadata": {},
     "output_type": "execute_result"
    }
   ],
   "source": [
    "bigmart_test_ds.head(5)"
   ]
  },
  {
   "cell_type": "code",
   "execution_count": 5,
   "id": "cc7f4cc4",
   "metadata": {},
   "outputs": [
    {
     "name": "stdout",
     "output_type": "stream",
     "text": [
      "Training Dataset information\n",
      "\n",
      "<class 'pandas.core.frame.DataFrame'>\n",
      "RangeIndex: 8523 entries, 0 to 8522\n",
      "Data columns (total 12 columns):\n",
      " #   Column                     Non-Null Count  Dtype  \n",
      "---  ------                     --------------  -----  \n",
      " 0   Item_Identifier            8523 non-null   object \n",
      " 1   Item_Weight                7060 non-null   float64\n",
      " 2   Item_Fat_Content           8523 non-null   object \n",
      " 3   Item_Visibility            8523 non-null   float64\n",
      " 4   Item_Type                  8523 non-null   object \n",
      " 5   Item_MRP                   8523 non-null   float64\n",
      " 6   Outlet_Identifier          8523 non-null   object \n",
      " 7   Outlet_Establishment_Year  8523 non-null   int64  \n",
      " 8   Outlet_Size                6113 non-null   object \n",
      " 9   Outlet_Location_Type       8523 non-null   object \n",
      " 10  Outlet_Type                8523 non-null   object \n",
      " 11  Item_Outlet_Sales          8523 non-null   float64\n",
      "dtypes: float64(4), int64(1), object(7)\n",
      "memory usage: 799.2+ KB\n",
      "\n",
      "\n",
      "Test Dataset information\n",
      "\n",
      "<class 'pandas.core.frame.DataFrame'>\n",
      "RangeIndex: 5681 entries, 0 to 5680\n",
      "Data columns (total 11 columns):\n",
      " #   Column                     Non-Null Count  Dtype  \n",
      "---  ------                     --------------  -----  \n",
      " 0   Item_Identifier            5681 non-null   object \n",
      " 1   Item_Weight                4705 non-null   float64\n",
      " 2   Item_Fat_Content           5681 non-null   object \n",
      " 3   Item_Visibility            5681 non-null   float64\n",
      " 4   Item_Type                  5681 non-null   object \n",
      " 5   Item_MRP                   5681 non-null   float64\n",
      " 6   Outlet_Identifier          5681 non-null   object \n",
      " 7   Outlet_Establishment_Year  5681 non-null   int64  \n",
      " 8   Outlet_Size                4075 non-null   object \n",
      " 9   Outlet_Location_Type       5681 non-null   object \n",
      " 10  Outlet_Type                5681 non-null   object \n",
      "dtypes: float64(3), int64(1), object(7)\n",
      "memory usage: 488.3+ KB\n"
     ]
    }
   ],
   "source": [
    "def check_data_info(x):\n",
    "    return x.info()\n",
    "\n",
    "print(\"Training Dataset information\\n\")\n",
    "check_data_info(bigmart_train_ds)\n",
    "print(\"\\n\")\n",
    "print(\"Test Dataset information\\n\")\n",
    "check_data_info(bigmart_test_ds)"
   ]
  },
  {
   "cell_type": "markdown",
   "id": "7d75fd39",
   "metadata": {},
   "source": [
    "Training data"
   ]
  },
  {
   "cell_type": "markdown",
   "id": "1ed4784b",
   "metadata": {},
   "source": [
    " has 8523 observations and 12 columns, 7 columns belong to object datatype , 4 are float and 1 is INT.\n",
    "we have similar data points in test also except the target column, it has 568 observations and 11 columns\n",
    "Missing values are observed in both the dataset.will check and impute them"
   ]
  },
  {
   "cell_type": "markdown",
   "id": "718548c8",
   "metadata": {},
   "source": [
    "# finding missing value"
   ]
  },
  {
   "cell_type": "code",
   "execution_count": 6,
   "id": "ab7dbf2e",
   "metadata": {},
   "outputs": [],
   "source": [
    "def find_missing_val(x):\n",
    "    missing_val= {}\n",
    "    for i in x.columns:\n",
    "        if x[i].isnull().sum()> 0:\n",
    "            missing_val[i] = x[i].isnull().sum()\n",
    "    print(missing_val)\n",
    "            \n",
    "    "
   ]
  },
  {
   "cell_type": "code",
   "execution_count": 7,
   "id": "9d8949dd",
   "metadata": {},
   "outputs": [
    {
     "name": "stdout",
     "output_type": "stream",
     "text": [
      "Training Dataset missing information\n",
      "\n",
      "{'Item_Weight': 1463, 'Outlet_Size': 2410}\n",
      "\n",
      "\n",
      "Test Dataset missing information\n",
      "\n",
      "{'Item_Weight': 976, 'Outlet_Size': 1606}\n"
     ]
    }
   ],
   "source": [
    "print(\"Training Dataset missing information\\n\")\n",
    "find_missing_val(bigmart_train_ds)\n",
    "print(\"\\n\")\n",
    "print(\"Test Dataset missing information\\n\")\n",
    "find_missing_val(bigmart_test_ds)"
   ]
  },
  {
   "cell_type": "code",
   "execution_count": 8,
   "id": "589938c6",
   "metadata": {},
   "outputs": [
    {
     "name": "stdout",
     "output_type": "stream",
     "text": [
      "Item_Identifier, FDW13    10\n",
      "FDG33    10\n",
      "NCY18     9\n",
      "FDD38     9\n",
      "DRE49     9\n",
      "         ..\n",
      "FDY43     1\n",
      "FDQ60     1\n",
      "FDO33     1\n",
      "DRF48     1\n",
      "FDC23     1\n",
      "Name: Item_Identifier, Length: 1559, dtype: int64\n",
      "\n",
      "Item_Fat_Content, Low Fat    5089\n",
      "Regular    2889\n",
      "LF          316\n",
      "reg         117\n",
      "low fat     112\n",
      "Name: Item_Fat_Content, dtype: int64\n",
      "\n",
      "Item_Type, Fruits and Vegetables    1232\n",
      "Snack Foods              1200\n",
      "Household                 910\n",
      "Frozen Foods              856\n",
      "Dairy                     682\n",
      "Canned                    649\n",
      "Baking Goods              648\n",
      "Health and Hygiene        520\n",
      "Soft Drinks               445\n",
      "Meat                      425\n",
      "Breads                    251\n",
      "Hard Drinks               214\n",
      "Others                    169\n",
      "Starchy Foods             148\n",
      "Breakfast                 110\n",
      "Seafood                    64\n",
      "Name: Item_Type, dtype: int64\n",
      "\n",
      "Outlet_Identifier, OUT027    935\n",
      "OUT013    932\n",
      "OUT049    930\n",
      "OUT046    930\n",
      "OUT035    930\n",
      "OUT045    929\n",
      "OUT018    928\n",
      "OUT017    926\n",
      "OUT010    555\n",
      "OUT019    528\n",
      "Name: Outlet_Identifier, dtype: int64\n",
      "\n",
      "Outlet_Size, Medium    2793\n",
      "Small     2388\n",
      "High       932\n",
      "Name: Outlet_Size, dtype: int64\n",
      "\n",
      "Outlet_Location_Type, Tier 3    3350\n",
      "Tier 2    2785\n",
      "Tier 1    2388\n",
      "Name: Outlet_Location_Type, dtype: int64\n",
      "\n",
      "Outlet_Type, Supermarket Type1    5577\n",
      "Grocery Store        1083\n",
      "Supermarket Type3     935\n",
      "Supermarket Type2     928\n",
      "Name: Outlet_Type, dtype: int64\n",
      "\n"
     ]
    }
   ],
   "source": [
    "object_data = bigmart_train_ds.select_dtypes(include = \"object\")\n",
    "for i in object_data.columns:\n",
    "    print(f'{i}, {object_data[i].value_counts()}\\n')"
   ]
  },
  {
   "cell_type": "code",
   "execution_count": 9,
   "id": "68c2b6ac",
   "metadata": {},
   "outputs": [
    {
     "data": {
      "text/html": [
       "<div>\n",
       "<style scoped>\n",
       "    .dataframe tbody tr th:only-of-type {\n",
       "        vertical-align: middle;\n",
       "    }\n",
       "\n",
       "    .dataframe tbody tr th {\n",
       "        vertical-align: top;\n",
       "    }\n",
       "\n",
       "    .dataframe thead th {\n",
       "        text-align: right;\n",
       "    }\n",
       "</style>\n",
       "<table border=\"1\" class=\"dataframe\">\n",
       "  <thead>\n",
       "    <tr style=\"text-align: right;\">\n",
       "      <th></th>\n",
       "      <th>Item_Weight</th>\n",
       "      <th>Item_Visibility</th>\n",
       "      <th>Item_MRP</th>\n",
       "      <th>Outlet_Establishment_Year</th>\n",
       "      <th>Item_Outlet_Sales</th>\n",
       "    </tr>\n",
       "    <tr>\n",
       "      <th>Item_Type</th>\n",
       "      <th></th>\n",
       "      <th></th>\n",
       "      <th></th>\n",
       "      <th></th>\n",
       "      <th></th>\n",
       "    </tr>\n",
       "  </thead>\n",
       "  <tbody>\n",
       "    <tr>\n",
       "      <th>Baking Goods</th>\n",
       "      <td>12.277108</td>\n",
       "      <td>0.069169</td>\n",
       "      <td>126.380766</td>\n",
       "      <td>1997.728395</td>\n",
       "      <td>1952.971207</td>\n",
       "    </tr>\n",
       "    <tr>\n",
       "      <th>Breads</th>\n",
       "      <td>11.346936</td>\n",
       "      <td>0.066255</td>\n",
       "      <td>140.952669</td>\n",
       "      <td>1997.657371</td>\n",
       "      <td>2204.132226</td>\n",
       "    </tr>\n",
       "    <tr>\n",
       "      <th>Breakfast</th>\n",
       "      <td>12.768202</td>\n",
       "      <td>0.085723</td>\n",
       "      <td>141.788151</td>\n",
       "      <td>1997.336364</td>\n",
       "      <td>2111.808651</td>\n",
       "    </tr>\n",
       "    <tr>\n",
       "      <th>Canned</th>\n",
       "      <td>12.305705</td>\n",
       "      <td>0.068129</td>\n",
       "      <td>139.763832</td>\n",
       "      <td>1998.152542</td>\n",
       "      <td>2225.194904</td>\n",
       "    </tr>\n",
       "    <tr>\n",
       "      <th>Dairy</th>\n",
       "      <td>13.426069</td>\n",
       "      <td>0.072427</td>\n",
       "      <td>148.499208</td>\n",
       "      <td>1997.681818</td>\n",
       "      <td>2232.542597</td>\n",
       "    </tr>\n",
       "    <tr>\n",
       "      <th>Frozen Foods</th>\n",
       "      <td>12.867061</td>\n",
       "      <td>0.065645</td>\n",
       "      <td>138.503366</td>\n",
       "      <td>1998.024533</td>\n",
       "      <td>2132.867744</td>\n",
       "    </tr>\n",
       "    <tr>\n",
       "      <th>Fruits and Vegetables</th>\n",
       "      <td>13.224769</td>\n",
       "      <td>0.068513</td>\n",
       "      <td>144.581235</td>\n",
       "      <td>1997.719968</td>\n",
       "      <td>2289.009592</td>\n",
       "    </tr>\n",
       "    <tr>\n",
       "      <th>Hard Drinks</th>\n",
       "      <td>11.400328</td>\n",
       "      <td>0.064943</td>\n",
       "      <td>137.077928</td>\n",
       "      <td>1998.177570</td>\n",
       "      <td>2139.221622</td>\n",
       "    </tr>\n",
       "    <tr>\n",
       "      <th>Health and Hygiene</th>\n",
       "      <td>13.142314</td>\n",
       "      <td>0.055216</td>\n",
       "      <td>130.818921</td>\n",
       "      <td>1997.734615</td>\n",
       "      <td>2010.000265</td>\n",
       "    </tr>\n",
       "    <tr>\n",
       "      <th>Household</th>\n",
       "      <td>13.384736</td>\n",
       "      <td>0.061322</td>\n",
       "      <td>149.424753</td>\n",
       "      <td>1997.784615</td>\n",
       "      <td>2258.784300</td>\n",
       "    </tr>\n",
       "    <tr>\n",
       "      <th>Meat</th>\n",
       "      <td>12.817344</td>\n",
       "      <td>0.062284</td>\n",
       "      <td>139.882032</td>\n",
       "      <td>1997.341176</td>\n",
       "      <td>2158.977911</td>\n",
       "    </tr>\n",
       "    <tr>\n",
       "      <th>Others</th>\n",
       "      <td>13.853285</td>\n",
       "      <td>0.060241</td>\n",
       "      <td>132.851430</td>\n",
       "      <td>1997.662722</td>\n",
       "      <td>1926.139702</td>\n",
       "    </tr>\n",
       "    <tr>\n",
       "      <th>Seafood</th>\n",
       "      <td>12.552843</td>\n",
       "      <td>0.074976</td>\n",
       "      <td>141.841719</td>\n",
       "      <td>1997.734375</td>\n",
       "      <td>2326.065928</td>\n",
       "    </tr>\n",
       "    <tr>\n",
       "      <th>Snack Foods</th>\n",
       "      <td>12.987880</td>\n",
       "      <td>0.066850</td>\n",
       "      <td>146.194934</td>\n",
       "      <td>1997.886667</td>\n",
       "      <td>2277.321739</td>\n",
       "    </tr>\n",
       "    <tr>\n",
       "      <th>Soft Drinks</th>\n",
       "      <td>11.847460</td>\n",
       "      <td>0.063972</td>\n",
       "      <td>131.492506</td>\n",
       "      <td>1998.098876</td>\n",
       "      <td>2006.511735</td>\n",
       "    </tr>\n",
       "    <tr>\n",
       "      <th>Starchy Foods</th>\n",
       "      <td>13.690731</td>\n",
       "      <td>0.067564</td>\n",
       "      <td>147.838023</td>\n",
       "      <td>1998.581081</td>\n",
       "      <td>2374.332773</td>\n",
       "    </tr>\n",
       "  </tbody>\n",
       "</table>\n",
       "</div>"
      ],
      "text/plain": [
       "                       Item_Weight  Item_Visibility    Item_MRP  \\\n",
       "Item_Type                                                         \n",
       "Baking Goods             12.277108         0.069169  126.380766   \n",
       "Breads                   11.346936         0.066255  140.952669   \n",
       "Breakfast                12.768202         0.085723  141.788151   \n",
       "Canned                   12.305705         0.068129  139.763832   \n",
       "Dairy                    13.426069         0.072427  148.499208   \n",
       "Frozen Foods             12.867061         0.065645  138.503366   \n",
       "Fruits and Vegetables    13.224769         0.068513  144.581235   \n",
       "Hard Drinks              11.400328         0.064943  137.077928   \n",
       "Health and Hygiene       13.142314         0.055216  130.818921   \n",
       "Household                13.384736         0.061322  149.424753   \n",
       "Meat                     12.817344         0.062284  139.882032   \n",
       "Others                   13.853285         0.060241  132.851430   \n",
       "Seafood                  12.552843         0.074976  141.841719   \n",
       "Snack Foods              12.987880         0.066850  146.194934   \n",
       "Soft Drinks              11.847460         0.063972  131.492506   \n",
       "Starchy Foods            13.690731         0.067564  147.838023   \n",
       "\n",
       "                       Outlet_Establishment_Year  Item_Outlet_Sales  \n",
       "Item_Type                                                            \n",
       "Baking Goods                         1997.728395        1952.971207  \n",
       "Breads                               1997.657371        2204.132226  \n",
       "Breakfast                            1997.336364        2111.808651  \n",
       "Canned                               1998.152542        2225.194904  \n",
       "Dairy                                1997.681818        2232.542597  \n",
       "Frozen Foods                         1998.024533        2132.867744  \n",
       "Fruits and Vegetables                1997.719968        2289.009592  \n",
       "Hard Drinks                          1998.177570        2139.221622  \n",
       "Health and Hygiene                   1997.734615        2010.000265  \n",
       "Household                            1997.784615        2258.784300  \n",
       "Meat                                 1997.341176        2158.977911  \n",
       "Others                               1997.662722        1926.139702  \n",
       "Seafood                              1997.734375        2326.065928  \n",
       "Snack Foods                          1997.886667        2277.321739  \n",
       "Soft Drinks                          1998.098876        2006.511735  \n",
       "Starchy Foods                        1998.581081        2374.332773  "
      ]
     },
     "execution_count": 9,
     "metadata": {},
     "output_type": "execute_result"
    }
   ],
   "source": [
    "bigmart_train_ds.groupby(\"Item_Type\").mean()"
   ]
  },
  {
   "cell_type": "markdown",
   "id": "cf43e478",
   "metadata": {},
   "source": [
    "# Imputing missing value"
   ]
  },
  {
   "cell_type": "code",
   "execution_count": 10,
   "id": "0c1d65b5",
   "metadata": {},
   "outputs": [],
   "source": [
    "def impute_weight(x):\n",
    "    Item_Weight  = x[0]\n",
    "    Item_Type = x[1]\n",
    "    \n",
    "    if pd.isnull(Item_Weight):\n",
    "        if Item_Type == \"Baking Goods\":\n",
    "            return  12.277108\n",
    "        elif Item_Type == \"Breads\":\n",
    "            return 11.346936\n",
    "        elif Item_Type == \"Breakfast\":\n",
    "            return 12.768202\n",
    "        elif Item_Type == \"Canned\":\n",
    "            return 12.305705\n",
    "        elif Item_Type == \"Dairy\":\n",
    "            return 13.426069\n",
    "        elif Item_Type == \"Frozen Foods\":\n",
    "            return 12.867061\n",
    "        elif Item_Type == \"Fruits and Vegetables\":\n",
    "            return 13.224769\n",
    "        elif Item_Type == \"Hard Drinks\":\n",
    "            return 11.400328\n",
    "        elif Item_Type == \"Health and Hygiene\":\n",
    "            return 13.142314\n",
    "        elif Item_Type == \"Household\":\n",
    "            return 13.384736\n",
    "        elif Item_Type == \"Meat\":\n",
    "            return 12.817344\n",
    "        elif Item_Type == \"Others\":\n",
    "            return 13.853285\n",
    "        elif Item_Type == \"Seafood\": \n",
    "            return 12.552843\n",
    "        elif Item_Type == \"Snack Foods\":\n",
    "            return 12.987880\n",
    "        elif Item_Type == \"Soft Drinks\":\n",
    "            return 11.847460\n",
    "        elif Item_Type == \"Starchy Foods\":\n",
    "            return 13.690731\n",
    "    else:\n",
    "        return Item_Weight"
   ]
  },
  {
   "cell_type": "code",
   "execution_count": 12,
   "id": "e0ecd9cc",
   "metadata": {},
   "outputs": [],
   "source": [
    "bigmart_train_ds[\"Item_Weight\"] = bigmart_train_ds[[\"Item_Weight\",\"Item_Type\"]].apply(impute_weight,axis =1)\n",
    "bigmart_test_ds[\"Item_Weight\"] = bigmart_test_ds[[\"Item_Weight\",\"Item_Type\"]].apply(impute_weight,axis =1)"
   ]
  },
  {
   "cell_type": "code",
   "execution_count": 13,
   "id": "8d13e694",
   "metadata": {},
   "outputs": [],
   "source": [
    "def impute_Outlet_Size(x):\n",
    "    x[\"Outlet_Size\"] = x[\"Outlet_Size\"].fillna(x[\"Outlet_Size\"].mode()[0])"
   ]
  },
  {
   "cell_type": "code",
   "execution_count": 14,
   "id": "9a86e03e",
   "metadata": {},
   "outputs": [],
   "source": [
    "impute_Outlet_Size(bigmart_train_ds)\n",
    "impute_Outlet_Size(bigmart_test_ds)"
   ]
  },
  {
   "cell_type": "code",
   "execution_count": 15,
   "id": "9fe09d9a",
   "metadata": {},
   "outputs": [
    {
     "name": "stdout",
     "output_type": "stream",
     "text": [
      "Training Dataset missing information post imputation\n",
      "\n",
      "{}\n",
      "\n",
      "\n",
      "Test Dataset missing information post imputation\n",
      "\n",
      "{}\n"
     ]
    }
   ],
   "source": [
    "print(\"Training Dataset missing information post imputation\\n\")\n",
    "find_missing_val(bigmart_train_ds)\n",
    "print(\"\\n\")\n",
    "print(\"Test Dataset missing information post imputation\\n\")\n",
    "find_missing_val(bigmart_test_ds)"
   ]
  },
  {
   "cell_type": "markdown",
   "id": "37d1e5b8",
   "metadata": {},
   "source": [
    "We had two columns with missing value, item_weight and outlet_size, item_weight has beem inputed with the mean value of each item_type and outlet_size has been imputed with mode value"
   ]
  },
  {
   "cell_type": "code",
   "execution_count": 16,
   "id": "250fefba",
   "metadata": {},
   "outputs": [],
   "source": [
    "# we have some observations from item_fat_content columns double names, lets correct them\n",
    "def observation_correction(x):\n",
    "    x[\"Item_Fat_Content\"] = x[\"Item_Fat_Content\"].replace({\"reg\":\"Regular\", \"Low Fat\":\"LF\",\"low fat\" :\"LF\"})\n",
    "observation_correction(bigmart_train_ds)\n",
    "observation_correction(bigmart_test_ds)"
   ]
  },
  {
   "cell_type": "code",
   "execution_count": 17,
   "id": "2de672e0",
   "metadata": {},
   "outputs": [
    {
     "data": {
      "text/plain": [
       "LF         5517\n",
       "Regular    3006\n",
       "Name: Item_Fat_Content, dtype: int64"
      ]
     },
     "execution_count": 17,
     "metadata": {},
     "output_type": "execute_result"
    }
   ],
   "source": [
    "bigmart_train_ds[\"Item_Fat_Content\"].value_counts()"
   ]
  },
  {
   "cell_type": "code",
   "execution_count": 18,
   "id": "9a8dce38",
   "metadata": {},
   "outputs": [
    {
     "data": {
      "text/plain": [
       "LF         3668\n",
       "Regular    2013\n",
       "Name: Item_Fat_Content, dtype: int64"
      ]
     },
     "execution_count": 18,
     "metadata": {},
     "output_type": "execute_result"
    }
   ],
   "source": [
    "bigmart_test_ds[\"Item_Fat_Content\"].value_counts()"
   ]
  },
  {
   "cell_type": "code",
   "execution_count": 19,
   "id": "ce436d4d",
   "metadata": {},
   "outputs": [
    {
     "data": {
      "text/html": [
       "<div>\n",
       "<style scoped>\n",
       "    .dataframe tbody tr th:only-of-type {\n",
       "        vertical-align: middle;\n",
       "    }\n",
       "\n",
       "    .dataframe tbody tr th {\n",
       "        vertical-align: top;\n",
       "    }\n",
       "\n",
       "    .dataframe thead th {\n",
       "        text-align: right;\n",
       "    }\n",
       "</style>\n",
       "<table border=\"1\" class=\"dataframe\">\n",
       "  <thead>\n",
       "    <tr style=\"text-align: right;\">\n",
       "      <th></th>\n",
       "      <th>Item_Weight</th>\n",
       "      <th>Item_Visibility</th>\n",
       "      <th>Item_MRP</th>\n",
       "      <th>Outlet_Establishment_Year</th>\n",
       "      <th>Item_Outlet_Sales</th>\n",
       "    </tr>\n",
       "  </thead>\n",
       "  <tbody>\n",
       "    <tr>\n",
       "      <th>count</th>\n",
       "      <td>8523.000000</td>\n",
       "      <td>8523.000000</td>\n",
       "      <td>8523.000000</td>\n",
       "      <td>8523.000000</td>\n",
       "      <td>8523.000000</td>\n",
       "    </tr>\n",
       "    <tr>\n",
       "      <th>mean</th>\n",
       "      <td>12.857890</td>\n",
       "      <td>0.066132</td>\n",
       "      <td>140.992782</td>\n",
       "      <td>1997.831867</td>\n",
       "      <td>2181.288914</td>\n",
       "    </tr>\n",
       "    <tr>\n",
       "      <th>std</th>\n",
       "      <td>4.232804</td>\n",
       "      <td>0.051598</td>\n",
       "      <td>62.275067</td>\n",
       "      <td>8.371760</td>\n",
       "      <td>1706.499616</td>\n",
       "    </tr>\n",
       "    <tr>\n",
       "      <th>min</th>\n",
       "      <td>4.555000</td>\n",
       "      <td>0.000000</td>\n",
       "      <td>31.290000</td>\n",
       "      <td>1985.000000</td>\n",
       "      <td>33.290000</td>\n",
       "    </tr>\n",
       "    <tr>\n",
       "      <th>25%</th>\n",
       "      <td>9.310000</td>\n",
       "      <td>0.026989</td>\n",
       "      <td>93.826500</td>\n",
       "      <td>1987.000000</td>\n",
       "      <td>834.247400</td>\n",
       "    </tr>\n",
       "    <tr>\n",
       "      <th>50%</th>\n",
       "      <td>12.867061</td>\n",
       "      <td>0.053931</td>\n",
       "      <td>143.012800</td>\n",
       "      <td>1999.000000</td>\n",
       "      <td>1794.331000</td>\n",
       "    </tr>\n",
       "    <tr>\n",
       "      <th>75%</th>\n",
       "      <td>16.000000</td>\n",
       "      <td>0.094585</td>\n",
       "      <td>185.643700</td>\n",
       "      <td>2004.000000</td>\n",
       "      <td>3101.296400</td>\n",
       "    </tr>\n",
       "    <tr>\n",
       "      <th>max</th>\n",
       "      <td>21.350000</td>\n",
       "      <td>0.328391</td>\n",
       "      <td>266.888400</td>\n",
       "      <td>2009.000000</td>\n",
       "      <td>13086.964800</td>\n",
       "    </tr>\n",
       "  </tbody>\n",
       "</table>\n",
       "</div>"
      ],
      "text/plain": [
       "       Item_Weight  Item_Visibility     Item_MRP  Outlet_Establishment_Year  \\\n",
       "count  8523.000000      8523.000000  8523.000000                8523.000000   \n",
       "mean     12.857890         0.066132   140.992782                1997.831867   \n",
       "std       4.232804         0.051598    62.275067                   8.371760   \n",
       "min       4.555000         0.000000    31.290000                1985.000000   \n",
       "25%       9.310000         0.026989    93.826500                1987.000000   \n",
       "50%      12.867061         0.053931   143.012800                1999.000000   \n",
       "75%      16.000000         0.094585   185.643700                2004.000000   \n",
       "max      21.350000         0.328391   266.888400                2009.000000   \n",
       "\n",
       "       Item_Outlet_Sales  \n",
       "count        8523.000000  \n",
       "mean         2181.288914  \n",
       "std          1706.499616  \n",
       "min            33.290000  \n",
       "25%           834.247400  \n",
       "50%          1794.331000  \n",
       "75%          3101.296400  \n",
       "max         13086.964800  "
      ]
     },
     "execution_count": 19,
     "metadata": {},
     "output_type": "execute_result"
    }
   ],
   "source": [
    "bigmart_train_ds.describe()\n"
   ]
  },
  {
   "cell_type": "markdown",
   "id": "554a1df0",
   "metadata": {},
   "source": [
    "since Outlet_Establishment_Year in year format and it reflects the opening of store year, we can convert into into that how many year store is operating, since data was collted in 2013 so till then we can take out the age of the store. let do it"
   ]
  },
  {
   "cell_type": "code",
   "execution_count": 20,
   "id": "1eaeb58d",
   "metadata": {},
   "outputs": [],
   "source": [
    "bigmart_train_ds[\"Outlet_Establishment_Year\"] = 2013-  bigmart_train_ds[\"Outlet_Establishment_Year\"] \n"
   ]
  },
  {
   "cell_type": "code",
   "execution_count": 21,
   "id": "01b605d9",
   "metadata": {},
   "outputs": [],
   "source": [
    "bigmart_test_ds[\"Outlet_Establishment_Year\"] = 2013- bigmart_test_ds[\"Outlet_Establishment_Year\"] \n"
   ]
  },
  {
   "cell_type": "code",
   "execution_count": 22,
   "id": "40c7a2cb",
   "metadata": {},
   "outputs": [
    {
     "data": {
      "text/html": [
       "<div>\n",
       "<style scoped>\n",
       "    .dataframe tbody tr th:only-of-type {\n",
       "        vertical-align: middle;\n",
       "    }\n",
       "\n",
       "    .dataframe tbody tr th {\n",
       "        vertical-align: top;\n",
       "    }\n",
       "\n",
       "    .dataframe thead th {\n",
       "        text-align: right;\n",
       "    }\n",
       "</style>\n",
       "<table border=\"1\" class=\"dataframe\">\n",
       "  <thead>\n",
       "    <tr style=\"text-align: right;\">\n",
       "      <th></th>\n",
       "      <th>Item_Weight</th>\n",
       "      <th>Item_Visibility</th>\n",
       "      <th>Item_MRP</th>\n",
       "      <th>Outlet_Establishment_Year</th>\n",
       "      <th>Item_Outlet_Sales</th>\n",
       "    </tr>\n",
       "  </thead>\n",
       "  <tbody>\n",
       "    <tr>\n",
       "      <th>count</th>\n",
       "      <td>8523.000000</td>\n",
       "      <td>8523.000000</td>\n",
       "      <td>8523.000000</td>\n",
       "      <td>8523.000000</td>\n",
       "      <td>8523.000000</td>\n",
       "    </tr>\n",
       "    <tr>\n",
       "      <th>mean</th>\n",
       "      <td>12.857890</td>\n",
       "      <td>0.066132</td>\n",
       "      <td>140.992782</td>\n",
       "      <td>15.168133</td>\n",
       "      <td>2181.288914</td>\n",
       "    </tr>\n",
       "    <tr>\n",
       "      <th>std</th>\n",
       "      <td>4.232804</td>\n",
       "      <td>0.051598</td>\n",
       "      <td>62.275067</td>\n",
       "      <td>8.371760</td>\n",
       "      <td>1706.499616</td>\n",
       "    </tr>\n",
       "    <tr>\n",
       "      <th>min</th>\n",
       "      <td>4.555000</td>\n",
       "      <td>0.000000</td>\n",
       "      <td>31.290000</td>\n",
       "      <td>4.000000</td>\n",
       "      <td>33.290000</td>\n",
       "    </tr>\n",
       "    <tr>\n",
       "      <th>25%</th>\n",
       "      <td>9.310000</td>\n",
       "      <td>0.026989</td>\n",
       "      <td>93.826500</td>\n",
       "      <td>9.000000</td>\n",
       "      <td>834.247400</td>\n",
       "    </tr>\n",
       "    <tr>\n",
       "      <th>50%</th>\n",
       "      <td>12.867061</td>\n",
       "      <td>0.053931</td>\n",
       "      <td>143.012800</td>\n",
       "      <td>14.000000</td>\n",
       "      <td>1794.331000</td>\n",
       "    </tr>\n",
       "    <tr>\n",
       "      <th>75%</th>\n",
       "      <td>16.000000</td>\n",
       "      <td>0.094585</td>\n",
       "      <td>185.643700</td>\n",
       "      <td>26.000000</td>\n",
       "      <td>3101.296400</td>\n",
       "    </tr>\n",
       "    <tr>\n",
       "      <th>max</th>\n",
       "      <td>21.350000</td>\n",
       "      <td>0.328391</td>\n",
       "      <td>266.888400</td>\n",
       "      <td>28.000000</td>\n",
       "      <td>13086.964800</td>\n",
       "    </tr>\n",
       "  </tbody>\n",
       "</table>\n",
       "</div>"
      ],
      "text/plain": [
       "       Item_Weight  Item_Visibility     Item_MRP  Outlet_Establishment_Year  \\\n",
       "count  8523.000000      8523.000000  8523.000000                8523.000000   \n",
       "mean     12.857890         0.066132   140.992782                  15.168133   \n",
       "std       4.232804         0.051598    62.275067                   8.371760   \n",
       "min       4.555000         0.000000    31.290000                   4.000000   \n",
       "25%       9.310000         0.026989    93.826500                   9.000000   \n",
       "50%      12.867061         0.053931   143.012800                  14.000000   \n",
       "75%      16.000000         0.094585   185.643700                  26.000000   \n",
       "max      21.350000         0.328391   266.888400                  28.000000   \n",
       "\n",
       "       Item_Outlet_Sales  \n",
       "count        8523.000000  \n",
       "mean         2181.288914  \n",
       "std          1706.499616  \n",
       "min            33.290000  \n",
       "25%           834.247400  \n",
       "50%          1794.331000  \n",
       "75%          3101.296400  \n",
       "max         13086.964800  "
      ]
     },
     "execution_count": 22,
     "metadata": {},
     "output_type": "execute_result"
    }
   ],
   "source": [
    "bigmart_train_ds.describe()\n"
   ]
  },
  {
   "cell_type": "code",
   "execution_count": 23,
   "id": "036e8e79",
   "metadata": {},
   "outputs": [
    {
     "data": {
      "text/html": [
       "<div>\n",
       "<style scoped>\n",
       "    .dataframe tbody tr th:only-of-type {\n",
       "        vertical-align: middle;\n",
       "    }\n",
       "\n",
       "    .dataframe tbody tr th {\n",
       "        vertical-align: top;\n",
       "    }\n",
       "\n",
       "    .dataframe thead th {\n",
       "        text-align: right;\n",
       "    }\n",
       "</style>\n",
       "<table border=\"1\" class=\"dataframe\">\n",
       "  <thead>\n",
       "    <tr style=\"text-align: right;\">\n",
       "      <th></th>\n",
       "      <th>Item_Weight</th>\n",
       "      <th>Item_Visibility</th>\n",
       "      <th>Item_MRP</th>\n",
       "      <th>Outlet_Establishment_Year</th>\n",
       "    </tr>\n",
       "  </thead>\n",
       "  <tbody>\n",
       "    <tr>\n",
       "      <th>count</th>\n",
       "      <td>5681.000000</td>\n",
       "      <td>5681.000000</td>\n",
       "      <td>5681.000000</td>\n",
       "      <td>5681.000000</td>\n",
       "    </tr>\n",
       "    <tr>\n",
       "      <th>mean</th>\n",
       "      <td>12.724373</td>\n",
       "      <td>0.065684</td>\n",
       "      <td>141.023273</td>\n",
       "      <td>15.171097</td>\n",
       "    </tr>\n",
       "    <tr>\n",
       "      <th>std</th>\n",
       "      <td>4.252665</td>\n",
       "      <td>0.051252</td>\n",
       "      <td>61.809091</td>\n",
       "      <td>8.372256</td>\n",
       "    </tr>\n",
       "    <tr>\n",
       "      <th>min</th>\n",
       "      <td>4.555000</td>\n",
       "      <td>0.000000</td>\n",
       "      <td>31.990000</td>\n",
       "      <td>4.000000</td>\n",
       "    </tr>\n",
       "    <tr>\n",
       "      <th>25%</th>\n",
       "      <td>9.195000</td>\n",
       "      <td>0.027047</td>\n",
       "      <td>94.412000</td>\n",
       "      <td>9.000000</td>\n",
       "    </tr>\n",
       "    <tr>\n",
       "      <th>50%</th>\n",
       "      <td>12.867061</td>\n",
       "      <td>0.054154</td>\n",
       "      <td>141.415400</td>\n",
       "      <td>14.000000</td>\n",
       "    </tr>\n",
       "    <tr>\n",
       "      <th>75%</th>\n",
       "      <td>15.850000</td>\n",
       "      <td>0.093463</td>\n",
       "      <td>186.026600</td>\n",
       "      <td>26.000000</td>\n",
       "    </tr>\n",
       "    <tr>\n",
       "      <th>max</th>\n",
       "      <td>21.350000</td>\n",
       "      <td>0.323637</td>\n",
       "      <td>266.588400</td>\n",
       "      <td>28.000000</td>\n",
       "    </tr>\n",
       "  </tbody>\n",
       "</table>\n",
       "</div>"
      ],
      "text/plain": [
       "       Item_Weight  Item_Visibility     Item_MRP  Outlet_Establishment_Year\n",
       "count  5681.000000      5681.000000  5681.000000                5681.000000\n",
       "mean     12.724373         0.065684   141.023273                  15.171097\n",
       "std       4.252665         0.051252    61.809091                   8.372256\n",
       "min       4.555000         0.000000    31.990000                   4.000000\n",
       "25%       9.195000         0.027047    94.412000                   9.000000\n",
       "50%      12.867061         0.054154   141.415400                  14.000000\n",
       "75%      15.850000         0.093463   186.026600                  26.000000\n",
       "max      21.350000         0.323637   266.588400                  28.000000"
      ]
     },
     "execution_count": 23,
     "metadata": {},
     "output_type": "execute_result"
    }
   ],
   "source": [
    "bigmart_test_ds.describe()"
   ]
  },
  {
   "cell_type": "code",
   "execution_count": 24,
   "id": "3d5cec6c",
   "metadata": {},
   "outputs": [
    {
     "data": {
      "text/html": [
       "<div>\n",
       "<style scoped>\n",
       "    .dataframe tbody tr th:only-of-type {\n",
       "        vertical-align: middle;\n",
       "    }\n",
       "\n",
       "    .dataframe tbody tr th {\n",
       "        vertical-align: top;\n",
       "    }\n",
       "\n",
       "    .dataframe thead th {\n",
       "        text-align: right;\n",
       "    }\n",
       "</style>\n",
       "<table border=\"1\" class=\"dataframe\">\n",
       "  <thead>\n",
       "    <tr style=\"text-align: right;\">\n",
       "      <th></th>\n",
       "      <th>Item_Identifier</th>\n",
       "      <th>Item_Weight</th>\n",
       "      <th>Item_Fat_Content</th>\n",
       "      <th>Item_Visibility</th>\n",
       "      <th>Item_Type</th>\n",
       "      <th>Item_MRP</th>\n",
       "      <th>Outlet_Identifier</th>\n",
       "      <th>Outlet_Establishment_Year</th>\n",
       "      <th>Outlet_Size</th>\n",
       "      <th>Outlet_Location_Type</th>\n",
       "      <th>Outlet_Type</th>\n",
       "      <th>Item_Outlet_Sales</th>\n",
       "    </tr>\n",
       "  </thead>\n",
       "  <tbody>\n",
       "    <tr>\n",
       "      <th>5007</th>\n",
       "      <td>FDM45</td>\n",
       "      <td>8.655000</td>\n",
       "      <td>Regular</td>\n",
       "      <td>0.088178</td>\n",
       "      <td>Snack Foods</td>\n",
       "      <td>122.6756</td>\n",
       "      <td>OUT035</td>\n",
       "      <td>9</td>\n",
       "      <td>Small</td>\n",
       "      <td>Tier 2</td>\n",
       "      <td>Supermarket Type1</td>\n",
       "      <td>2302.3364</td>\n",
       "    </tr>\n",
       "    <tr>\n",
       "      <th>7938</th>\n",
       "      <td>FDV50</td>\n",
       "      <td>14.300000</td>\n",
       "      <td>LF</td>\n",
       "      <td>0.122571</td>\n",
       "      <td>Dairy</td>\n",
       "      <td>122.3730</td>\n",
       "      <td>OUT046</td>\n",
       "      <td>16</td>\n",
       "      <td>Small</td>\n",
       "      <td>Tier 1</td>\n",
       "      <td>Supermarket Type1</td>\n",
       "      <td>985.3840</td>\n",
       "    </tr>\n",
       "    <tr>\n",
       "      <th>2493</th>\n",
       "      <td>NCO07</td>\n",
       "      <td>9.060000</td>\n",
       "      <td>LF</td>\n",
       "      <td>0.009791</td>\n",
       "      <td>Others</td>\n",
       "      <td>213.2560</td>\n",
       "      <td>OUT049</td>\n",
       "      <td>14</td>\n",
       "      <td>Medium</td>\n",
       "      <td>Tier 1</td>\n",
       "      <td>Supermarket Type1</td>\n",
       "      <td>4687.2320</td>\n",
       "    </tr>\n",
       "    <tr>\n",
       "      <th>780</th>\n",
       "      <td>NCO06</td>\n",
       "      <td>19.250000</td>\n",
       "      <td>LF</td>\n",
       "      <td>0.108471</td>\n",
       "      <td>Household</td>\n",
       "      <td>33.4558</td>\n",
       "      <td>OUT018</td>\n",
       "      <td>4</td>\n",
       "      <td>Medium</td>\n",
       "      <td>Tier 3</td>\n",
       "      <td>Supermarket Type2</td>\n",
       "      <td>441.4254</td>\n",
       "    </tr>\n",
       "    <tr>\n",
       "      <th>1306</th>\n",
       "      <td>NCN07</td>\n",
       "      <td>18.500000</td>\n",
       "      <td>LF</td>\n",
       "      <td>0.034014</td>\n",
       "      <td>Others</td>\n",
       "      <td>133.2284</td>\n",
       "      <td>OUT045</td>\n",
       "      <td>11</td>\n",
       "      <td>Medium</td>\n",
       "      <td>Tier 2</td>\n",
       "      <td>Supermarket Type1</td>\n",
       "      <td>2768.3964</td>\n",
       "    </tr>\n",
       "    <tr>\n",
       "      <th>968</th>\n",
       "      <td>NCO17</td>\n",
       "      <td>10.000000</td>\n",
       "      <td>LF</td>\n",
       "      <td>0.000000</td>\n",
       "      <td>Health and Hygiene</td>\n",
       "      <td>120.6440</td>\n",
       "      <td>OUT035</td>\n",
       "      <td>9</td>\n",
       "      <td>Small</td>\n",
       "      <td>Tier 2</td>\n",
       "      <td>Supermarket Type1</td>\n",
       "      <td>1917.5040</td>\n",
       "    </tr>\n",
       "    <tr>\n",
       "      <th>7386</th>\n",
       "      <td>NCN41</td>\n",
       "      <td>13.142314</td>\n",
       "      <td>LF</td>\n",
       "      <td>0.091412</td>\n",
       "      <td>Health and Hygiene</td>\n",
       "      <td>121.3730</td>\n",
       "      <td>OUT019</td>\n",
       "      <td>28</td>\n",
       "      <td>Small</td>\n",
       "      <td>Tier 1</td>\n",
       "      <td>Grocery Store</td>\n",
       "      <td>369.5190</td>\n",
       "    </tr>\n",
       "    <tr>\n",
       "      <th>5032</th>\n",
       "      <td>FDG50</td>\n",
       "      <td>7.405000</td>\n",
       "      <td>LF</td>\n",
       "      <td>0.015272</td>\n",
       "      <td>Canned</td>\n",
       "      <td>89.9146</td>\n",
       "      <td>OUT046</td>\n",
       "      <td>16</td>\n",
       "      <td>Small</td>\n",
       "      <td>Tier 1</td>\n",
       "      <td>Supermarket Type1</td>\n",
       "      <td>1550.6482</td>\n",
       "    </tr>\n",
       "    <tr>\n",
       "      <th>5673</th>\n",
       "      <td>FDH05</td>\n",
       "      <td>14.350000</td>\n",
       "      <td>Regular</td>\n",
       "      <td>0.090914</td>\n",
       "      <td>Frozen Foods</td>\n",
       "      <td>231.2984</td>\n",
       "      <td>OUT046</td>\n",
       "      <td>16</td>\n",
       "      <td>Small</td>\n",
       "      <td>Tier 1</td>\n",
       "      <td>Supermarket Type1</td>\n",
       "      <td>3243.7776</td>\n",
       "    </tr>\n",
       "    <tr>\n",
       "      <th>8388</th>\n",
       "      <td>NCU53</td>\n",
       "      <td>5.485000</td>\n",
       "      <td>LF</td>\n",
       "      <td>0.042716</td>\n",
       "      <td>Health and Hygiene</td>\n",
       "      <td>164.8842</td>\n",
       "      <td>OUT013</td>\n",
       "      <td>26</td>\n",
       "      <td>High</td>\n",
       "      <td>Tier 3</td>\n",
       "      <td>Supermarket Type1</td>\n",
       "      <td>2155.1946</td>\n",
       "    </tr>\n",
       "  </tbody>\n",
       "</table>\n",
       "</div>"
      ],
      "text/plain": [
       "     Item_Identifier  Item_Weight Item_Fat_Content  Item_Visibility  \\\n",
       "5007           FDM45     8.655000          Regular         0.088178   \n",
       "7938           FDV50    14.300000               LF         0.122571   \n",
       "2493           NCO07     9.060000               LF         0.009791   \n",
       "780            NCO06    19.250000               LF         0.108471   \n",
       "1306           NCN07    18.500000               LF         0.034014   \n",
       "968            NCO17    10.000000               LF         0.000000   \n",
       "7386           NCN41    13.142314               LF         0.091412   \n",
       "5032           FDG50     7.405000               LF         0.015272   \n",
       "5673           FDH05    14.350000          Regular         0.090914   \n",
       "8388           NCU53     5.485000               LF         0.042716   \n",
       "\n",
       "               Item_Type  Item_MRP Outlet_Identifier  \\\n",
       "5007         Snack Foods  122.6756            OUT035   \n",
       "7938               Dairy  122.3730            OUT046   \n",
       "2493              Others  213.2560            OUT049   \n",
       "780            Household   33.4558            OUT018   \n",
       "1306              Others  133.2284            OUT045   \n",
       "968   Health and Hygiene  120.6440            OUT035   \n",
       "7386  Health and Hygiene  121.3730            OUT019   \n",
       "5032              Canned   89.9146            OUT046   \n",
       "5673        Frozen Foods  231.2984            OUT046   \n",
       "8388  Health and Hygiene  164.8842            OUT013   \n",
       "\n",
       "      Outlet_Establishment_Year Outlet_Size Outlet_Location_Type  \\\n",
       "5007                          9       Small               Tier 2   \n",
       "7938                         16       Small               Tier 1   \n",
       "2493                         14      Medium               Tier 1   \n",
       "780                           4      Medium               Tier 3   \n",
       "1306                         11      Medium               Tier 2   \n",
       "968                           9       Small               Tier 2   \n",
       "7386                         28       Small               Tier 1   \n",
       "5032                         16       Small               Tier 1   \n",
       "5673                         16       Small               Tier 1   \n",
       "8388                         26        High               Tier 3   \n",
       "\n",
       "            Outlet_Type  Item_Outlet_Sales  \n",
       "5007  Supermarket Type1          2302.3364  \n",
       "7938  Supermarket Type1           985.3840  \n",
       "2493  Supermarket Type1          4687.2320  \n",
       "780   Supermarket Type2           441.4254  \n",
       "1306  Supermarket Type1          2768.3964  \n",
       "968   Supermarket Type1          1917.5040  \n",
       "7386      Grocery Store           369.5190  \n",
       "5032  Supermarket Type1          1550.6482  \n",
       "5673  Supermarket Type1          3243.7776  \n",
       "8388  Supermarket Type1          2155.1946  "
      ]
     },
     "execution_count": 24,
     "metadata": {},
     "output_type": "execute_result"
    }
   ],
   "source": [
    "\n",
    "bigmart_train_ds.sample(10)"
   ]
  },
  {
   "cell_type": "markdown",
   "id": "bd19887b",
   "metadata": {},
   "source": [
    "# univaruate analysis"
   ]
  },
  {
   "cell_type": "code",
   "execution_count": 27,
   "id": "00e16562",
   "metadata": {},
   "outputs": [
    {
     "data": {
      "image/png": "[encoded data removed]",
      "text/plain": [
       "<Figure size 720x576 with 6 Axes>"
      ]
     },
     "metadata": {
      "needs_background": "light"
     },
     "output_type": "display_data"
    }
   ],
   "source": [
    "import matplotlib.pyplot as plt\n",
    "\n",
    "# train data\n",
    "bigmart_train_ds.select_dtypes(exclude = \"object\").hist(figsize=(10,8));"
   ]
  },
  {
   "cell_type": "markdown",
   "id": "b60f2e7c",
   "metadata": {},
   "source": [
    "item_outlet_sales amd item_visibility are right skewed data. item_weighate seems normally distributed and MRP is left skewed"
   ]
  },
  {
   "cell_type": "code",
   "execution_count": 28,
   "id": "f4d3ef5f",
   "metadata": {},
   "outputs": [
    {
     "data": {
      "image/png": "[encoded data removed]",
      "text/plain": [
       "<Figure size 720x576 with 4 Axes>"
      ]
     },
     "metadata": {
      "needs_background": "light"
     },
     "output_type": "display_data"
    }
   ],
   "source": [
    "# test data \n",
    "bigmart_test_ds.select_dtypes(exclude = \"object\").hist(figsize=(10,8));"
   ]
  },
  {
   "cell_type": "markdown",
   "id": "f35032e5",
   "metadata": {},
   "source": [
    "it has same observation as train data"
   ]
  },
  {
   "cell_type": "code",
   "execution_count": 31,
   "id": "eee3ad6d",
   "metadata": {},
   "outputs": [
    {
     "data": {
      "text/plain": [
       "Item_Weight                  0.089537\n",
       "Item_Visibility              1.167091\n",
       "Item_MRP                     0.127202\n",
       "Outlet_Establishment_Year    0.396641\n",
       "Item_Outlet_Sales            1.177531\n",
       "dtype: float64"
      ]
     },
     "execution_count": 31,
     "metadata": {},
     "output_type": "execute_result"
    }
   ],
   "source": [
    "# train data\n",
    "bigmart_train_ds.select_dtypes(exclude = \"object\").skew()"
   ]
  },
  {
   "cell_type": "markdown",
   "id": "19a34ff6",
   "metadata": {},
   "source": [
    "As mentioned item_visibility and sales are right skewed distribution and we can see clearly from skewness."
   ]
  },
  {
   "cell_type": "code",
   "execution_count": 32,
   "id": "468b04f6",
   "metadata": {},
   "outputs": [
    {
     "data": {
      "text/plain": [
       "Item_Weight                  0.121744\n",
       "Item_Visibility              1.238312\n",
       "Item_MRP                     0.136182\n",
       "Outlet_Establishment_Year    0.396306\n",
       "dtype: float64"
      ]
     },
     "execution_count": 32,
     "metadata": {},
     "output_type": "execute_result"
    }
   ],
   "source": [
    " #test  data\n",
    "bigmart_test_ds.select_dtypes(exclude = \"object\").skew()"
   ]
  },
  {
   "cell_type": "code",
   "execution_count": 33,
   "id": "757997f4",
   "metadata": {},
   "outputs": [],
   "source": [
    "# treating skewness\n",
    "import numpy as np\n",
    "def treat_skewness(x):\n",
    "    x[\"Item_Visibility\"] =  np.sqrt(x[\"Item_Visibility\"])"
   ]
  },
  {
   "cell_type": "code",
   "execution_count": 34,
   "id": "844bec89",
   "metadata": {},
   "outputs": [],
   "source": [
    "treat_skewness(bigmart_train_ds)\n"
   ]
  },
  {
   "cell_type": "code",
   "execution_count": 35,
   "id": "34ac6b6e",
   "metadata": {},
   "outputs": [
    {
     "data": {
      "text/plain": [
       "Item_Weight                  0.089537\n",
       "Item_Visibility             -0.098056\n",
       "Item_MRP                     0.127202\n",
       "Outlet_Establishment_Year    0.396641\n",
       "Item_Outlet_Sales            1.177531\n",
       "dtype: float64"
      ]
     },
     "execution_count": 35,
     "metadata": {},
     "output_type": "execute_result"
    }
   ],
   "source": [
    "# train data\n",
    "bigmart_train_ds.select_dtypes(exclude = \"object\").skew()"
   ]
  },
  {
   "cell_type": "code",
   "execution_count": 36,
   "id": "4e28118b",
   "metadata": {},
   "outputs": [
    {
     "data": {
      "text/plain": [
       "Item_Weight                  0.121744\n",
       "Item_Visibility              1.238312\n",
       "Item_MRP                     0.136182\n",
       "Outlet_Establishment_Year    0.396306\n",
       "dtype: float64"
      ]
     },
     "execution_count": 36,
     "metadata": {},
     "output_type": "execute_result"
    }
   ],
   "source": [
    "bigmart_test_ds.select_dtypes(exclude = \"object\").skew()"
   ]
  },
  {
   "cell_type": "markdown",
   "id": "fb2eda19",
   "metadata": {},
   "source": [
    "# boxplot outlier detection\n"
   ]
  },
  {
   "cell_type": "code",
   "execution_count": 39,
   "id": "f7e0e445",
   "metadata": {},
   "outputs": [
    {
     "data": {
      "text/plain": [
       "<AxesSubplot:>"
      ]
     },
     "execution_count": 39,
     "metadata": {},
     "output_type": "execute_result"
    },
    {
     "data": {
      "image/png": "[encoded data removed]",
      "text/plain": [
       "<Figure size 720x576 with 1 Axes>"
      ]
     },
     "metadata": {
      "needs_background": "light"
     },
     "output_type": "display_data"
    }
   ],
   "source": [
    "bigmart_train_ds[[\"Item_Weight\",\"Item_Visibility\",\"Item_MRP\",\"Outlet_Establishment_Year\"]].boxplot(figsize=(10,8))"
   ]
  },
  {
   "cell_type": "code",
   "execution_count": 40,
   "id": "1d152adb",
   "metadata": {},
   "outputs": [
    {
     "name": "stderr",
     "output_type": "stream",
     "text": [
      "C:\\Users\\ashik\\anaconda3\\lib\\site-packages\\seaborn\\_decorators.py:36: FutureWarning: Pass the following variable as a keyword arg: x. From version 0.12, the only valid positional argument will be `data`, and passing other arguments without an explicit keyword will result in an error or misinterpretation.\n",
      "  warnings.warn(\n"
     ]
    },
    {
     "data": {
      "text/plain": [
       "<AxesSubplot:xlabel='Item_Visibility'>"
      ]
     },
     "execution_count": 40,
     "metadata": {},
     "output_type": "execute_result"
    },
    {
     "data": {
      "image/png": "[encoded data removed]",
      "text/plain": [
       "<Figure size 432x288 with 1 Axes>"
      ]
     },
     "metadata": {
      "needs_background": "light"
     },
     "output_type": "display_data"
    }
   ],
   "source": [
    "import seaborn as sns\n",
    "sns.boxplot(bigmart_train_ds[\"Item_Visibility\"])"
   ]
  },
  {
   "cell_type": "markdown",
   "id": "e025a915",
   "metadata": {},
   "source": [
    "other than item_visibility no columns have outlier. item_visibility has max value close to its whiskers and that is fine"
   ]
  },
  {
   "cell_type": "code",
   "execution_count": 42,
   "id": "4d74d256",
   "metadata": {},
   "outputs": [
    {
     "data": {
      "text/plain": [
       "<AxesSubplot:>"
      ]
     },
     "execution_count": 42,
     "metadata": {},
     "output_type": "execute_result"
    },
    {
     "data": {
      "image/png": "[encoded data removed]",
      "text/plain": [
       "<Figure size 720x576 with 1 Axes>"
      ]
     },
     "metadata": {
      "needs_background": "light"
     },
     "output_type": "display_data"
    }
   ],
   "source": [
    "# test data \n",
    "bigmart_test_ds[[\"Item_Weight\",\"Item_Visibility\",\"Item_MRP\",\"Outlet_Establishment_Year\"]].boxplot(figsize=(10,8))"
   ]
  },
  {
   "cell_type": "markdown",
   "id": "aa498ae5",
   "metadata": {},
   "source": [
    "we have same observation for test dataset also in terms of outlier observations"
   ]
  },
  {
   "cell_type": "markdown",
   "id": "2661f742",
   "metadata": {},
   "source": [
    "# Bivariate analysis"
   ]
  },
  {
   "cell_type": "code",
   "execution_count": 44,
   "id": "d3f50015",
   "metadata": {},
   "outputs": [],
   "source": [
    "one_bigmart_data2 = pd.concat([bigmart_train_ds,bigmart_test_ds], sort = False) # creating a data for visu;aization purpose\n"
   ]
  },
  {
   "cell_type": "code",
   "execution_count": 45,
   "id": "cb1435ae",
   "metadata": {},
   "outputs": [
    {
     "data": {
      "text/plain": [
       "(14204, 12)"
      ]
     },
     "execution_count": 45,
     "metadata": {},
     "output_type": "execute_result"
    }
   ],
   "source": [
    "one_bigmart_data2.shape"
   ]
  },
  {
   "cell_type": "code",
   "execution_count": 46,
   "id": "9bca5dbf",
   "metadata": {},
   "outputs": [
    {
     "data": {
      "text/plain": [
       "<AxesSubplot:xlabel='Outlet_Size', ylabel='Item_Outlet_Sales'>"
      ]
     },
     "execution_count": 46,
     "metadata": {},
     "output_type": "execute_result"
    },
    {
     "data": {
      "image/png": "[encoded data removed]",
      "text/plain": [
       "<Figure size 432x288 with 1 Axes>"
      ]
     },
     "metadata": {
      "needs_background": "light"
     },
     "output_type": "display_data"
    }
   ],
   "source": [
    "sns.barplot(x =one_bigmart_data2[\"Outlet_Size\"], y = one_bigmart_data2[\"Item_Outlet_Sales\"])"
   ]
  },
  {
   "cell_type": "markdown",
   "id": "62fa9740",
   "metadata": {},
   "source": [
    "Medium and high size outlet have more sale than small and that is obvious"
   ]
  },
  {
   "cell_type": "code",
   "execution_count": 47,
   "id": "08d3a39d",
   "metadata": {},
   "outputs": [
    {
     "data": {
      "text/plain": [
       "<AxesSubplot:xlabel='Item_Fat_Content', ylabel='Item_Outlet_Sales'>"
      ]
     },
     "execution_count": 47,
     "metadata": {},
     "output_type": "execute_result"
    },
    {
     "data": {
      "image/png": "[encoded data removed]",
      "text/plain": [
       "<Figure size 432x288 with 1 Axes>"
      ]
     },
     "metadata": {
      "needs_background": "light"
     },
     "output_type": "display_data"
    }
   ],
   "source": [
    "sns.barplot(x =one_bigmart_data2[\"Item_Fat_Content\"], y = one_bigmart_data2[\"Item_Outlet_Sales\"])"
   ]
  },
  {
   "cell_type": "markdown",
   "id": "8a621b51",
   "metadata": {},
   "source": [
    "people are used to buying both the product frequently"
   ]
  },
  {
   "cell_type": "code",
   "execution_count": 48,
   "id": "cb92c001",
   "metadata": {},
   "outputs": [
    {
     "data": {
      "text/plain": [
       "<AxesSubplot:xlabel='Outlet_Establishment_Year', ylabel='Outlet_Identifier'>"
      ]
     },
     "execution_count": 48,
     "metadata": {},
     "output_type": "execute_result"
    },
    {
     "data": {
      "image/png": "[encoded data removed]",
      "text/plain": [
       "<Figure size 432x288 with 1 Axes>"
      ]
     },
     "metadata": {
      "needs_background": "light"
     },
     "output_type": "display_data"
    }
   ],
   "source": [
    "sns.barplot(x =one_bigmart_data2[\"Outlet_Establishment_Year\"], y = one_bigmart_data2[\"Outlet_Identifier\"])"
   ]
  },
  {
   "cell_type": "markdown",
   "id": "aa00fafe",
   "metadata": {},
   "source": [
    "outlet 19,27 and 13 are too old"
   ]
  },
  {
   "cell_type": "code",
   "execution_count": 49,
   "id": "7ed7f4cd",
   "metadata": {},
   "outputs": [
    {
     "data": {
      "text/plain": [
       "<AxesSubplot:xlabel='Outlet_Establishment_Year', ylabel='Item_Outlet_Sales'>"
      ]
     },
     "execution_count": 49,
     "metadata": {},
     "output_type": "execute_result"
    },
    {
     "data": {
      "image/png": "[encoded data removed]",
      "text/plain": [
       "<Figure size 432x288 with 1 Axes>"
      ]
     },
     "metadata": {
      "needs_background": "light"
     },
     "output_type": "display_data"
    }
   ],
   "source": [
    "sns.barplot(x =one_bigmart_data2[\"Outlet_Establishment_Year\"], y = one_bigmart_data2[\"Item_Outlet_Sales\"])"
   ]
  },
  {
   "cell_type": "code",
   "execution_count": 50,
   "id": "ac8d92cc",
   "metadata": {},
   "outputs": [
    {
     "data": {
      "text/plain": [
       "<AxesSubplot:xlabel='Outlet_Identifier', ylabel='Item_Outlet_Sales'>"
      ]
     },
     "execution_count": 50,
     "metadata": {},
     "output_type": "execute_result"
    },
    {
     "data": {
      "image/png": "[encoded data removed]",
      "text/plain": [
       "<Figure size 720x360 with 1 Axes>"
      ]
     },
     "metadata": {
      "needs_background": "light"
     },
     "output_type": "display_data"
    }
   ],
   "source": [
    "plt.figure(figsize =(10,5))\n",
    "sns.barplot(x =one_bigmart_data2[\"Outlet_Identifier\"], y = one_bigmart_data2[\"Item_Outlet_Sales\"])\n"
   ]
  },
  {
   "cell_type": "markdown",
   "id": "09ac314e",
   "metadata": {},
   "source": [
    "outlet 27 has the highest sale and 10 and 19 are lowest sale. outlet 19 is too old even though sales are low"
   ]
  },
  {
   "cell_type": "code",
   "execution_count": 52,
   "id": "7f3cf74a",
   "metadata": {},
   "outputs": [
    {
     "data": {
      "text/plain": [
       "<AxesSubplot:xlabel='Item_Type', ylabel='Item_Outlet_Sales'>"
      ]
     },
     "execution_count": 52,
     "metadata": {},
     "output_type": "execute_result"
    },
    {
     "data": {
      "image/png": "[encoded data removed]",
      "text/plain": [
       "<Figure size 1800x576 with 1 Axes>"
      ]
     },
     "metadata": {
      "needs_background": "light"
     },
     "output_type": "display_data"
    }
   ],
   "source": [
    "plt.figure(figsize =(25,8))\n",
    "sns.barplot(x =one_bigmart_data2[\"Item_Type\"], y = one_bigmart_data2[\"Item_Outlet_Sales\"])"
   ]
  },
  {
   "cell_type": "markdown",
   "id": "f43aefb8",
   "metadata": {},
   "source": [
    "Baking goods and other categories sales is slightly low as compare to rest of the categories"
   ]
  },
  {
   "cell_type": "markdown",
   "id": "b19dba57",
   "metadata": {},
   "source": [
    "# Label encoding"
   ]
  },
  {
   "cell_type": "code",
   "execution_count": 55,
   "id": "e5b6217d",
   "metadata": {},
   "outputs": [],
   "source": [
    "from sklearn.preprocessing import LabelEncoder\n",
    "\n",
    "LE = LabelEncoder()"
   ]
  },
  {
   "cell_type": "code",
   "execution_count": 56,
   "id": "5948bff5",
   "metadata": {},
   "outputs": [],
   "source": [
    "var_col_label = [\"Item_Identifier\",\"Item_Type\",\"Outlet_Identifier\"]\n",
    " \n",
    "def lebal_encoding(x):\n",
    "    for i in var_col_label:\n",
    "        x[i] = LE.fit_transform(x[i])\n",
    "lebal_encoding(bigmart_train_ds)\n",
    "lebal_encoding(bigmart_test_ds)"
   ]
  },
  {
   "cell_type": "code",
   "execution_count": 57,
   "id": "a7c5c033",
   "metadata": {},
   "outputs": [
    {
     "data": {
      "text/html": [
       "<div>\n",
       "<style scoped>\n",
       "    .dataframe tbody tr th:only-of-type {\n",
       "        vertical-align: middle;\n",
       "    }\n",
       "\n",
       "    .dataframe tbody tr th {\n",
       "        vertical-align: top;\n",
       "    }\n",
       "\n",
       "    .dataframe thead th {\n",
       "        text-align: right;\n",
       "    }\n",
       "</style>\n",
       "<table border=\"1\" class=\"dataframe\">\n",
       "  <thead>\n",
       "    <tr style=\"text-align: right;\">\n",
       "      <th></th>\n",
       "      <th>Item_Identifier</th>\n",
       "      <th>Item_Weight</th>\n",
       "      <th>Item_Fat_Content</th>\n",
       "      <th>Item_Visibility</th>\n",
       "      <th>Item_Type</th>\n",
       "      <th>Item_MRP</th>\n",
       "      <th>Outlet_Identifier</th>\n",
       "      <th>Outlet_Establishment_Year</th>\n",
       "      <th>Outlet_Size</th>\n",
       "      <th>Outlet_Location_Type</th>\n",
       "      <th>Outlet_Type</th>\n",
       "      <th>Item_Outlet_Sales</th>\n",
       "    </tr>\n",
       "  </thead>\n",
       "  <tbody>\n",
       "    <tr>\n",
       "      <th>0</th>\n",
       "      <td>156</td>\n",
       "      <td>9.30</td>\n",
       "      <td>LF</td>\n",
       "      <td>0.126678</td>\n",
       "      <td>4</td>\n",
       "      <td>249.8092</td>\n",
       "      <td>9</td>\n",
       "      <td>14</td>\n",
       "      <td>Medium</td>\n",
       "      <td>Tier 1</td>\n",
       "      <td>Supermarket Type1</td>\n",
       "      <td>3735.1380</td>\n",
       "    </tr>\n",
       "    <tr>\n",
       "      <th>1</th>\n",
       "      <td>8</td>\n",
       "      <td>5.92</td>\n",
       "      <td>Regular</td>\n",
       "      <td>0.138846</td>\n",
       "      <td>14</td>\n",
       "      <td>48.2692</td>\n",
       "      <td>3</td>\n",
       "      <td>4</td>\n",
       "      <td>Medium</td>\n",
       "      <td>Tier 3</td>\n",
       "      <td>Supermarket Type2</td>\n",
       "      <td>443.4228</td>\n",
       "    </tr>\n",
       "    <tr>\n",
       "      <th>2</th>\n",
       "      <td>662</td>\n",
       "      <td>17.50</td>\n",
       "      <td>LF</td>\n",
       "      <td>0.129461</td>\n",
       "      <td>10</td>\n",
       "      <td>141.6180</td>\n",
       "      <td>9</td>\n",
       "      <td>14</td>\n",
       "      <td>Medium</td>\n",
       "      <td>Tier 1</td>\n",
       "      <td>Supermarket Type1</td>\n",
       "      <td>2097.2700</td>\n",
       "    </tr>\n",
       "    <tr>\n",
       "      <th>3</th>\n",
       "      <td>1121</td>\n",
       "      <td>19.20</td>\n",
       "      <td>Regular</td>\n",
       "      <td>0.000000</td>\n",
       "      <td>6</td>\n",
       "      <td>182.0950</td>\n",
       "      <td>0</td>\n",
       "      <td>15</td>\n",
       "      <td>Medium</td>\n",
       "      <td>Tier 3</td>\n",
       "      <td>Grocery Store</td>\n",
       "      <td>732.3800</td>\n",
       "    </tr>\n",
       "    <tr>\n",
       "      <th>4</th>\n",
       "      <td>1297</td>\n",
       "      <td>8.93</td>\n",
       "      <td>LF</td>\n",
       "      <td>0.000000</td>\n",
       "      <td>9</td>\n",
       "      <td>53.8614</td>\n",
       "      <td>1</td>\n",
       "      <td>26</td>\n",
       "      <td>High</td>\n",
       "      <td>Tier 3</td>\n",
       "      <td>Supermarket Type1</td>\n",
       "      <td>994.7052</td>\n",
       "    </tr>\n",
       "  </tbody>\n",
       "</table>\n",
       "</div>"
      ],
      "text/plain": [
       "   Item_Identifier  Item_Weight Item_Fat_Content  Item_Visibility  Item_Type  \\\n",
       "0              156         9.30               LF         0.126678          4   \n",
       "1                8         5.92          Regular         0.138846         14   \n",
       "2              662        17.50               LF         0.129461         10   \n",
       "3             1121        19.20          Regular         0.000000          6   \n",
       "4             1297         8.93               LF         0.000000          9   \n",
       "\n",
       "   Item_MRP  Outlet_Identifier  Outlet_Establishment_Year Outlet_Size  \\\n",
       "0  249.8092                  9                         14      Medium   \n",
       "1   48.2692                  3                          4      Medium   \n",
       "2  141.6180                  9                         14      Medium   \n",
       "3  182.0950                  0                         15      Medium   \n",
       "4   53.8614                  1                         26        High   \n",
       "\n",
       "  Outlet_Location_Type        Outlet_Type  Item_Outlet_Sales  \n",
       "0               Tier 1  Supermarket Type1          3735.1380  \n",
       "1               Tier 3  Supermarket Type2           443.4228  \n",
       "2               Tier 1  Supermarket Type1          2097.2700  \n",
       "3               Tier 3      Grocery Store           732.3800  \n",
       "4               Tier 3  Supermarket Type1           994.7052  "
      ]
     },
     "execution_count": 57,
     "metadata": {},
     "output_type": "execute_result"
    }
   ],
   "source": [
    "bigmart_train_ds.head()"
   ]
  },
  {
   "cell_type": "code",
   "execution_count": 58,
   "id": "555e20e6",
   "metadata": {},
   "outputs": [
    {
     "data": {
      "text/html": [
       "<div>\n",
       "<style scoped>\n",
       "    .dataframe tbody tr th:only-of-type {\n",
       "        vertical-align: middle;\n",
       "    }\n",
       "\n",
       "    .dataframe tbody tr th {\n",
       "        vertical-align: top;\n",
       "    }\n",
       "\n",
       "    .dataframe thead th {\n",
       "        text-align: right;\n",
       "    }\n",
       "</style>\n",
       "<table border=\"1\" class=\"dataframe\">\n",
       "  <thead>\n",
       "    <tr style=\"text-align: right;\">\n",
       "      <th></th>\n",
       "      <th>Item_Identifier</th>\n",
       "      <th>Item_Weight</th>\n",
       "      <th>Item_Fat_Content</th>\n",
       "      <th>Item_Visibility</th>\n",
       "      <th>Item_Type</th>\n",
       "      <th>Item_MRP</th>\n",
       "      <th>Outlet_Identifier</th>\n",
       "      <th>Outlet_Establishment_Year</th>\n",
       "      <th>Outlet_Size</th>\n",
       "      <th>Outlet_Location_Type</th>\n",
       "      <th>Outlet_Type</th>\n",
       "    </tr>\n",
       "  </thead>\n",
       "  <tbody>\n",
       "    <tr>\n",
       "      <th>0</th>\n",
       "      <td>1103</td>\n",
       "      <td>20.750000</td>\n",
       "      <td>LF</td>\n",
       "      <td>0.007565</td>\n",
       "      <td>13</td>\n",
       "      <td>107.8622</td>\n",
       "      <td>9</td>\n",
       "      <td>14</td>\n",
       "      <td>Medium</td>\n",
       "      <td>Tier 1</td>\n",
       "      <td>Supermarket Type1</td>\n",
       "    </tr>\n",
       "    <tr>\n",
       "      <th>1</th>\n",
       "      <td>1067</td>\n",
       "      <td>8.300000</td>\n",
       "      <td>Regular</td>\n",
       "      <td>0.038428</td>\n",
       "      <td>4</td>\n",
       "      <td>87.3198</td>\n",
       "      <td>2</td>\n",
       "      <td>6</td>\n",
       "      <td>Medium</td>\n",
       "      <td>Tier 2</td>\n",
       "      <td>Supermarket Type1</td>\n",
       "    </tr>\n",
       "    <tr>\n",
       "      <th>2</th>\n",
       "      <td>1406</td>\n",
       "      <td>14.600000</td>\n",
       "      <td>LF</td>\n",
       "      <td>0.099575</td>\n",
       "      <td>11</td>\n",
       "      <td>241.7538</td>\n",
       "      <td>0</td>\n",
       "      <td>15</td>\n",
       "      <td>Medium</td>\n",
       "      <td>Tier 3</td>\n",
       "      <td>Grocery Store</td>\n",
       "    </tr>\n",
       "    <tr>\n",
       "      <th>3</th>\n",
       "      <td>809</td>\n",
       "      <td>7.315000</td>\n",
       "      <td>LF</td>\n",
       "      <td>0.015388</td>\n",
       "      <td>13</td>\n",
       "      <td>155.0340</td>\n",
       "      <td>2</td>\n",
       "      <td>6</td>\n",
       "      <td>Medium</td>\n",
       "      <td>Tier 2</td>\n",
       "      <td>Supermarket Type1</td>\n",
       "    </tr>\n",
       "    <tr>\n",
       "      <th>4</th>\n",
       "      <td>1184</td>\n",
       "      <td>13.426069</td>\n",
       "      <td>Regular</td>\n",
       "      <td>0.118599</td>\n",
       "      <td>4</td>\n",
       "      <td>234.2300</td>\n",
       "      <td>5</td>\n",
       "      <td>28</td>\n",
       "      <td>Medium</td>\n",
       "      <td>Tier 3</td>\n",
       "      <td>Supermarket Type3</td>\n",
       "    </tr>\n",
       "  </tbody>\n",
       "</table>\n",
       "</div>"
      ],
      "text/plain": [
       "   Item_Identifier  Item_Weight Item_Fat_Content  Item_Visibility  Item_Type  \\\n",
       "0             1103    20.750000               LF         0.007565         13   \n",
       "1             1067     8.300000          Regular         0.038428          4   \n",
       "2             1406    14.600000               LF         0.099575         11   \n",
       "3              809     7.315000               LF         0.015388         13   \n",
       "4             1184    13.426069          Regular         0.118599          4   \n",
       "\n",
       "   Item_MRP  Outlet_Identifier  Outlet_Establishment_Year Outlet_Size  \\\n",
       "0  107.8622                  9                         14      Medium   \n",
       "1   87.3198                  2                          6      Medium   \n",
       "2  241.7538                  0                         15      Medium   \n",
       "3  155.0340                  2                          6      Medium   \n",
       "4  234.2300                  5                         28      Medium   \n",
       "\n",
       "  Outlet_Location_Type        Outlet_Type  \n",
       "0               Tier 1  Supermarket Type1  \n",
       "1               Tier 2  Supermarket Type1  \n",
       "2               Tier 3      Grocery Store  \n",
       "3               Tier 2  Supermarket Type1  \n",
       "4               Tier 3  Supermarket Type3  "
      ]
     },
     "execution_count": 58,
     "metadata": {},
     "output_type": "execute_result"
    }
   ],
   "source": [
    "bigmart_test_ds.head()"
   ]
  },
  {
   "cell_type": "code",
   "execution_count": 59,
   "id": "b1030d86",
   "metadata": {},
   "outputs": [],
   "source": [
    "# making dummy variable with pandas fucntions\n",
    "bigmart_train_ds = pd.get_dummies(bigmart_train_ds,columns = [\"Item_Fat_Content\",\"Outlet_Size\",\"Outlet_Location_Type\",\"Outlet_Type\"],drop_first=True) \n",
    "bigmart_test_ds = pd.get_dummies(bigmart_test_ds,columns = [\"Item_Fat_Content\",\"Outlet_Size\",\"Outlet_Location_Type\",\"Outlet_Type\"],drop_first=True) \n"
   ]
  },
  {
   "cell_type": "code",
   "execution_count": 60,
   "id": "34d3df42",
   "metadata": {},
   "outputs": [
    {
     "data": {
      "text/html": [
       "<div>\n",
       "<style scoped>\n",
       "    .dataframe tbody tr th:only-of-type {\n",
       "        vertical-align: middle;\n",
       "    }\n",
       "\n",
       "    .dataframe tbody tr th {\n",
       "        vertical-align: top;\n",
       "    }\n",
       "\n",
       "    .dataframe thead th {\n",
       "        text-align: right;\n",
       "    }\n",
       "</style>\n",
       "<table border=\"1\" class=\"dataframe\">\n",
       "  <thead>\n",
       "    <tr style=\"text-align: right;\">\n",
       "      <th></th>\n",
       "      <th>Item_Identifier</th>\n",
       "      <th>Item_Weight</th>\n",
       "      <th>Item_Visibility</th>\n",
       "      <th>Item_Type</th>\n",
       "      <th>Item_MRP</th>\n",
       "      <th>Outlet_Identifier</th>\n",
       "      <th>Outlet_Establishment_Year</th>\n",
       "      <th>Item_Outlet_Sales</th>\n",
       "      <th>Item_Fat_Content_Regular</th>\n",
       "      <th>Outlet_Size_Medium</th>\n",
       "      <th>Outlet_Size_Small</th>\n",
       "      <th>Outlet_Location_Type_Tier 2</th>\n",
       "      <th>Outlet_Location_Type_Tier 3</th>\n",
       "      <th>Outlet_Type_Supermarket Type1</th>\n",
       "      <th>Outlet_Type_Supermarket Type2</th>\n",
       "      <th>Outlet_Type_Supermarket Type3</th>\n",
       "    </tr>\n",
       "  </thead>\n",
       "  <tbody>\n",
       "    <tr>\n",
       "      <th>0</th>\n",
       "      <td>156</td>\n",
       "      <td>9.30</td>\n",
       "      <td>0.126678</td>\n",
       "      <td>4</td>\n",
       "      <td>249.8092</td>\n",
       "      <td>9</td>\n",
       "      <td>14</td>\n",
       "      <td>3735.1380</td>\n",
       "      <td>0</td>\n",
       "      <td>1</td>\n",
       "      <td>0</td>\n",
       "      <td>0</td>\n",
       "      <td>0</td>\n",
       "      <td>1</td>\n",
       "      <td>0</td>\n",
       "      <td>0</td>\n",
       "    </tr>\n",
       "    <tr>\n",
       "      <th>1</th>\n",
       "      <td>8</td>\n",
       "      <td>5.92</td>\n",
       "      <td>0.138846</td>\n",
       "      <td>14</td>\n",
       "      <td>48.2692</td>\n",
       "      <td>3</td>\n",
       "      <td>4</td>\n",
       "      <td>443.4228</td>\n",
       "      <td>1</td>\n",
       "      <td>1</td>\n",
       "      <td>0</td>\n",
       "      <td>0</td>\n",
       "      <td>1</td>\n",
       "      <td>0</td>\n",
       "      <td>1</td>\n",
       "      <td>0</td>\n",
       "    </tr>\n",
       "    <tr>\n",
       "      <th>2</th>\n",
       "      <td>662</td>\n",
       "      <td>17.50</td>\n",
       "      <td>0.129461</td>\n",
       "      <td>10</td>\n",
       "      <td>141.6180</td>\n",
       "      <td>9</td>\n",
       "      <td>14</td>\n",
       "      <td>2097.2700</td>\n",
       "      <td>0</td>\n",
       "      <td>1</td>\n",
       "      <td>0</td>\n",
       "      <td>0</td>\n",
       "      <td>0</td>\n",
       "      <td>1</td>\n",
       "      <td>0</td>\n",
       "      <td>0</td>\n",
       "    </tr>\n",
       "    <tr>\n",
       "      <th>3</th>\n",
       "      <td>1121</td>\n",
       "      <td>19.20</td>\n",
       "      <td>0.000000</td>\n",
       "      <td>6</td>\n",
       "      <td>182.0950</td>\n",
       "      <td>0</td>\n",
       "      <td>15</td>\n",
       "      <td>732.3800</td>\n",
       "      <td>1</td>\n",
       "      <td>1</td>\n",
       "      <td>0</td>\n",
       "      <td>0</td>\n",
       "      <td>1</td>\n",
       "      <td>0</td>\n",
       "      <td>0</td>\n",
       "      <td>0</td>\n",
       "    </tr>\n",
       "    <tr>\n",
       "      <th>4</th>\n",
       "      <td>1297</td>\n",
       "      <td>8.93</td>\n",
       "      <td>0.000000</td>\n",
       "      <td>9</td>\n",
       "      <td>53.8614</td>\n",
       "      <td>1</td>\n",
       "      <td>26</td>\n",
       "      <td>994.7052</td>\n",
       "      <td>0</td>\n",
       "      <td>0</td>\n",
       "      <td>0</td>\n",
       "      <td>0</td>\n",
       "      <td>1</td>\n",
       "      <td>1</td>\n",
       "      <td>0</td>\n",
       "      <td>0</td>\n",
       "    </tr>\n",
       "  </tbody>\n",
       "</table>\n",
       "</div>"
      ],
      "text/plain": [
       "   Item_Identifier  Item_Weight  Item_Visibility  Item_Type  Item_MRP  \\\n",
       "0              156         9.30         0.126678          4  249.8092   \n",
       "1                8         5.92         0.138846         14   48.2692   \n",
       "2              662        17.50         0.129461         10  141.6180   \n",
       "3             1121        19.20         0.000000          6  182.0950   \n",
       "4             1297         8.93         0.000000          9   53.8614   \n",
       "\n",
       "   Outlet_Identifier  Outlet_Establishment_Year  Item_Outlet_Sales  \\\n",
       "0                  9                         14          3735.1380   \n",
       "1                  3                          4           443.4228   \n",
       "2                  9                         14          2097.2700   \n",
       "3                  0                         15           732.3800   \n",
       "4                  1                         26           994.7052   \n",
       "\n",
       "   Item_Fat_Content_Regular  Outlet_Size_Medium  Outlet_Size_Small  \\\n",
       "0                         0                   1                  0   \n",
       "1                         1                   1                  0   \n",
       "2                         0                   1                  0   \n",
       "3                         1                   1                  0   \n",
       "4                         0                   0                  0   \n",
       "\n",
       "   Outlet_Location_Type_Tier 2  Outlet_Location_Type_Tier 3  \\\n",
       "0                            0                            0   \n",
       "1                            0                            1   \n",
       "2                            0                            0   \n",
       "3                            0                            1   \n",
       "4                            0                            1   \n",
       "\n",
       "   Outlet_Type_Supermarket Type1  Outlet_Type_Supermarket Type2  \\\n",
       "0                              1                              0   \n",
       "1                              0                              1   \n",
       "2                              1                              0   \n",
       "3                              0                              0   \n",
       "4                              1                              0   \n",
       "\n",
       "   Outlet_Type_Supermarket Type3  \n",
       "0                              0  \n",
       "1                              0  \n",
       "2                              0  \n",
       "3                              0  \n",
       "4                              0  "
      ]
     },
     "execution_count": 60,
     "metadata": {},
     "output_type": "execute_result"
    }
   ],
   "source": [
    "bigmart_train_ds.head()"
   ]
  },
  {
   "cell_type": "code",
   "execution_count": 61,
   "id": "ae85c5d4",
   "metadata": {},
   "outputs": [
    {
     "data": {
      "text/html": [
       "<div>\n",
       "<style scoped>\n",
       "    .dataframe tbody tr th:only-of-type {\n",
       "        vertical-align: middle;\n",
       "    }\n",
       "\n",
       "    .dataframe tbody tr th {\n",
       "        vertical-align: top;\n",
       "    }\n",
       "\n",
       "    .dataframe thead th {\n",
       "        text-align: right;\n",
       "    }\n",
       "</style>\n",
       "<table border=\"1\" class=\"dataframe\">\n",
       "  <thead>\n",
       "    <tr style=\"text-align: right;\">\n",
       "      <th></th>\n",
       "      <th>Item_Identifier</th>\n",
       "      <th>Item_Weight</th>\n",
       "      <th>Item_Visibility</th>\n",
       "      <th>Item_Type</th>\n",
       "      <th>Item_MRP</th>\n",
       "      <th>Outlet_Identifier</th>\n",
       "      <th>Outlet_Establishment_Year</th>\n",
       "      <th>Item_Fat_Content_Regular</th>\n",
       "      <th>Outlet_Size_Medium</th>\n",
       "      <th>Outlet_Size_Small</th>\n",
       "      <th>Outlet_Location_Type_Tier 2</th>\n",
       "      <th>Outlet_Location_Type_Tier 3</th>\n",
       "      <th>Outlet_Type_Supermarket Type1</th>\n",
       "      <th>Outlet_Type_Supermarket Type2</th>\n",
       "      <th>Outlet_Type_Supermarket Type3</th>\n",
       "    </tr>\n",
       "  </thead>\n",
       "  <tbody>\n",
       "    <tr>\n",
       "      <th>0</th>\n",
       "      <td>1103</td>\n",
       "      <td>20.750000</td>\n",
       "      <td>0.007565</td>\n",
       "      <td>13</td>\n",
       "      <td>107.8622</td>\n",
       "      <td>9</td>\n",
       "      <td>14</td>\n",
       "      <td>0</td>\n",
       "      <td>1</td>\n",
       "      <td>0</td>\n",
       "      <td>0</td>\n",
       "      <td>0</td>\n",
       "      <td>1</td>\n",
       "      <td>0</td>\n",
       "      <td>0</td>\n",
       "    </tr>\n",
       "    <tr>\n",
       "      <th>1</th>\n",
       "      <td>1067</td>\n",
       "      <td>8.300000</td>\n",
       "      <td>0.038428</td>\n",
       "      <td>4</td>\n",
       "      <td>87.3198</td>\n",
       "      <td>2</td>\n",
       "      <td>6</td>\n",
       "      <td>1</td>\n",
       "      <td>1</td>\n",
       "      <td>0</td>\n",
       "      <td>1</td>\n",
       "      <td>0</td>\n",
       "      <td>1</td>\n",
       "      <td>0</td>\n",
       "      <td>0</td>\n",
       "    </tr>\n",
       "    <tr>\n",
       "      <th>2</th>\n",
       "      <td>1406</td>\n",
       "      <td>14.600000</td>\n",
       "      <td>0.099575</td>\n",
       "      <td>11</td>\n",
       "      <td>241.7538</td>\n",
       "      <td>0</td>\n",
       "      <td>15</td>\n",
       "      <td>0</td>\n",
       "      <td>1</td>\n",
       "      <td>0</td>\n",
       "      <td>0</td>\n",
       "      <td>1</td>\n",
       "      <td>0</td>\n",
       "      <td>0</td>\n",
       "      <td>0</td>\n",
       "    </tr>\n",
       "    <tr>\n",
       "      <th>3</th>\n",
       "      <td>809</td>\n",
       "      <td>7.315000</td>\n",
       "      <td>0.015388</td>\n",
       "      <td>13</td>\n",
       "      <td>155.0340</td>\n",
       "      <td>2</td>\n",
       "      <td>6</td>\n",
       "      <td>0</td>\n",
       "      <td>1</td>\n",
       "      <td>0</td>\n",
       "      <td>1</td>\n",
       "      <td>0</td>\n",
       "      <td>1</td>\n",
       "      <td>0</td>\n",
       "      <td>0</td>\n",
       "    </tr>\n",
       "    <tr>\n",
       "      <th>4</th>\n",
       "      <td>1184</td>\n",
       "      <td>13.426069</td>\n",
       "      <td>0.118599</td>\n",
       "      <td>4</td>\n",
       "      <td>234.2300</td>\n",
       "      <td>5</td>\n",
       "      <td>28</td>\n",
       "      <td>1</td>\n",
       "      <td>1</td>\n",
       "      <td>0</td>\n",
       "      <td>0</td>\n",
       "      <td>1</td>\n",
       "      <td>0</td>\n",
       "      <td>0</td>\n",
       "      <td>1</td>\n",
       "    </tr>\n",
       "  </tbody>\n",
       "</table>\n",
       "</div>"
      ],
      "text/plain": [
       "   Item_Identifier  Item_Weight  Item_Visibility  Item_Type  Item_MRP  \\\n",
       "0             1103    20.750000         0.007565         13  107.8622   \n",
       "1             1067     8.300000         0.038428          4   87.3198   \n",
       "2             1406    14.600000         0.099575         11  241.7538   \n",
       "3              809     7.315000         0.015388         13  155.0340   \n",
       "4             1184    13.426069         0.118599          4  234.2300   \n",
       "\n",
       "   Outlet_Identifier  Outlet_Establishment_Year  Item_Fat_Content_Regular  \\\n",
       "0                  9                         14                         0   \n",
       "1                  2                          6                         1   \n",
       "2                  0                         15                         0   \n",
       "3                  2                          6                         0   \n",
       "4                  5                         28                         1   \n",
       "\n",
       "   Outlet_Size_Medium  Outlet_Size_Small  Outlet_Location_Type_Tier 2  \\\n",
       "0                   1                  0                            0   \n",
       "1                   1                  0                            1   \n",
       "2                   1                  0                            0   \n",
       "3                   1                  0                            1   \n",
       "4                   1                  0                            0   \n",
       "\n",
       "   Outlet_Location_Type_Tier 3  Outlet_Type_Supermarket Type1  \\\n",
       "0                            0                              1   \n",
       "1                            0                              1   \n",
       "2                            1                              0   \n",
       "3                            0                              1   \n",
       "4                            1                              0   \n",
       "\n",
       "   Outlet_Type_Supermarket Type2  Outlet_Type_Supermarket Type3  \n",
       "0                              0                              0  \n",
       "1                              0                              0  \n",
       "2                              0                              0  \n",
       "3                              0                              0  \n",
       "4                              0                              1  "
      ]
     },
     "execution_count": 61,
     "metadata": {},
     "output_type": "execute_result"
    }
   ],
   "source": [
    "bigmart_test_ds.head()"
   ]
  },
  {
   "cell_type": "markdown",
   "id": "b69d86d2",
   "metadata": {},
   "source": [
    "# Data is ready for modeling now"
   ]
  },
  {
   "cell_type": "code",
   "execution_count": 62,
   "id": "6485eefa",
   "metadata": {},
   "outputs": [],
   "source": [
    "from sklearn.preprocessing import StandardScaler\n",
    "from sklearn.linear_model import LinearRegression\n",
    "from sklearn.ensemble import RandomForestRegressor, AdaBoostRegressor\n",
    "from sklearn.svm import SVR\n",
    "from sklearn.model_selection import RandomizedSearchCV, cross_val_score, train_test_split\n",
    "from sklearn.metrics import mean_squared_error, r2_score"
   ]
  },
  {
   "cell_type": "code",
   "execution_count": 63,
   "id": "40ede961",
   "metadata": {},
   "outputs": [],
   "source": [
    "# Seprate data into train and test \n",
    "\n",
    "X_tr = bigmart_train_ds.drop(columns =\"Item_Outlet_Sales\")\n",
    "y =   bigmart_train_ds[\"Item_Outlet_Sales\"]\n",
    "\n",
    "X_test_data = bigmart_test_ds\n",
    "\n",
    "X_train,X_test,y_train,y_test = train_test_split(X_tr,y, test_size = 0.2, random_state = 100)"
   ]
  },
  {
   "cell_type": "code",
   "execution_count": 64,
   "id": "2d0db23a",
   "metadata": {},
   "outputs": [
    {
     "name": "stdout",
     "output_type": "stream",
     "text": [
      "training score 0.5667446861505478\n",
      "test score 0.5500509342603036\n",
      "mean_squared_error LinearRegression() 1327494.2657063375\n",
      "RMSE LinearRegression() 1152.1693737061134\n",
      "R2_score LinearRegression() 0.1559701151481785 \n",
      "\n",
      "training score 0.9381319735201833\n",
      "test score 0.5619127159429311\n",
      "mean_squared_error RandomForestRegressor() 1292498.199787494\n",
      "RMSE RandomForestRegressor() 1136.8809083573767\n",
      "R2_score RandomForestRegressor() 0.31723480207319854 \n",
      "\n",
      "training score 0.37562444893559277\n",
      "test score 0.3626609684244473\n",
      "mean_squared_error AdaBoostRegressor() 1880354.8538021406\n",
      "RMSE AdaBoostRegressor() 1371.2603158416496\n",
      "R2_score AdaBoostRegressor() -0.5279418303310994 \n",
      "\n",
      "training score -0.0363687366291503\n",
      "test score -0.04975618372033952\n",
      "mean_squared_error SVR() 3097117.9193084715\n",
      "RMSE SVR() 1759.863039929094\n",
      "R2_score SVR() -2686.5294691248396 \n",
      "\n"
     ]
    }
   ],
   "source": [
    "models = [LinearRegression(),RandomForestRegressor(),AdaBoostRegressor(),SVR()]\n",
    "for model in models:\n",
    "    model.fit(X_train,y_train)\n",
    "    print(\"training score\",model.score(X_train,y_train))\n",
    "    pred = model.predict(X_test)\n",
    "    print(\"test score\",model.score(X_test,y_test))\n",
    "    print(\"mean_squared_error\",model,mean_squared_error(pred,y_test))\n",
    "    print(\"RMSE\",model,mean_squared_error(pred,y_test, squared=False))\n",
    "    print(\"R2_score\",model,r2_score(pred,y_test),\"\\n\")"
   ]
  },
  {
   "cell_type": "markdown",
   "id": "32b7de01",
   "metadata": {},
   "source": [
    "Randomforest and linear regression have postive r2 score other than rest of two algorithm. Since Randomforest is overfitting model we will pick Logistic regression as final model"
   ]
  },
  {
   "cell_type": "code",
   "execution_count": 65,
   "id": "b77a1e9f",
   "metadata": {},
   "outputs": [],
   "source": [
    "# RF = RandomForestRegressor()\n",
    "# parameter = {\"n_estimators\": [100,200,300,400,500],\n",
    "#             \"max_features\" : [\"auto\", \"sqrt\", \"log2\"],\n",
    "#             \"criterion\" :['mse',\"mae\"],\n",
    "#             \"max_depth\":[10,20,30,40,50,60,70],\n",
    "#             \"min_samples_split\" :[2,3,4,5,6],\n",
    "#             \"min_samples_leaf\" :[1,2,3],\n",
    "#             \"bootstrap\" :[True,False]}\n",
    "\n",
    "# randomgrid = RandomizedSearchCV(RF,parameter,scoring=\"r2\",cv = 5, n_jobs =-1, verbose = 2)\n",
    "# randomgrid.fit(X_train,y_train)\n",
    "# randomgrid.best_params_"
   ]
  },
  {
   "cell_type": "markdown",
   "id": "24c1d56f",
   "metadata": {},
   "source": [
    "this could not be performed, i waited for 15 hours. just wanted to check if we tuned paramter can we save the overfitting problem"
   ]
  },
  {
   "cell_type": "code",
   "execution_count": 66,
   "id": "d54f60fc",
   "metadata": {},
   "outputs": [
    {
     "name": "stdout",
     "output_type": "stream",
     "text": [
      "training score 0.5667446861505478\n",
      "test score 0.5500509342603036\n",
      "mean_squared_error 1327494.2657063375\n",
      "RMSE 1152.1693737061134\n",
      "R2_score 0.1559701151481785 \n",
      "\n"
     ]
    }
   ],
   "source": [
    "LR = LinearRegression()\n",
    "LR.fit(X_train,y_train)\n",
    "print(\"training score\",LR.score(X_train,y_train))\n",
    "pred = LR.predict(X_test)\n",
    "print(\"test score\",LR.score(X_test,y_test))\n",
    "print(\"mean_squared_error\",mean_squared_error(pred,y_test))\n",
    "print(\"RMSE\",mean_squared_error(pred,y_test, squared=False))\n",
    "print(\"R2_score\",r2_score(pred,y_test),\"\\n\")"
   ]
  },
  {
   "cell_type": "code",
   "execution_count": 67,
   "id": "3d0827b9",
   "metadata": {},
   "outputs": [
    {
     "name": "stdout",
     "output_type": "stream",
     "text": [
      "training score 0.5666604995142102\n",
      "test score 0.5496358556428471\n",
      "mean_squared_error 1328718.880949365\n",
      "RMSE 1152.7006900966812\n",
      "R2_score 0.15348065039770098 \n",
      "\n"
     ]
    }
   ],
   "source": [
    "from sklearn.linear_model import Lasso, Ridge\n",
    "ri =  Ridge()\n",
    "la = Lasso()\n",
    "\n",
    "\n",
    "ri.fit(X_train,y_train)\n",
    "print(\"training score\",ri.score(X_train,y_train))\n",
    "pred = ri.predict(X_test)\n",
    "print(\"test score\",ri.score(X_test,y_test))\n",
    "print(\"mean_squared_error\",mean_squared_error(pred,y_test))\n",
    "print(\"RMSE\",mean_squared_error(pred,y_test, squared=False))\n",
    "print(\"R2_score\",r2_score(pred,y_test),\"\\n\")"
   ]
  },
  {
   "cell_type": "code",
   "execution_count": 68,
   "id": "384483cc",
   "metadata": {},
   "outputs": [
    {
     "name": "stdout",
     "output_type": "stream",
     "text": [
      "training score 0.5659694260516221\n",
      "test score 0.5483047353848656\n",
      "mean_squared_error 1332646.1132607178\n",
      "RMSE 1154.4029250052677\n",
      "R2_score 0.14847412101781143 \n",
      "\n"
     ]
    }
   ],
   "source": [
    "la.fit(X_train,y_train)\n",
    "print(\"training score\",la.score(X_train,y_train))\n",
    "pred = la.predict(X_test)\n",
    "print(\"test score\",la.score(X_test,y_test))\n",
    "print(\"mean_squared_error\",mean_squared_error(pred,y_test))\n",
    "print(\"RMSE\",mean_squared_error(pred,y_test, squared=False))\n",
    "print(\"R2_score\",r2_score(pred,y_test),\"\\n\")"
   ]
  },
  {
   "cell_type": "markdown",
   "id": "aab2ba12",
   "metadata": {},
   "source": [
    "Linear regresison is giving more accurate prediction. it train and test score are very close."
   ]
  },
  {
   "cell_type": "code",
   "execution_count": 69,
   "id": "918bf50a",
   "metadata": {},
   "outputs": [
    {
     "name": "stdout",
     "output_type": "stream",
     "text": [
      "1 mean -1276853.1576036825 and SD 31757.971641231736\n",
      "2 mean -1276853.1576036825 and SD 31757.971641231736\n",
      "3 mean -1276853.1576036825 and SD 31757.971641231736\n",
      "4 mean -1276853.1576036825 and SD 31757.971641231736\n",
      "5 mean -1276853.1576036825 and SD 31757.971641231736\n",
      "6 mean -1276853.1576036825 and SD 31757.971641231736\n",
      "7 mean -1276853.1576036825 and SD 31757.971641231736\n",
      "8 mean -1276853.1576036825 and SD 31757.971641231736\n",
      "9 mean -1276853.1576036825 and SD 31757.971641231736\n"
     ]
    }
   ],
   "source": [
    "for i in range(1,10):\n",
    "    cross_score = cross_val_score(LR, X_tr,y, scoring =\"neg_mean_squared_error\")\n",
    "    print(i,\"mean\", cross_score.mean() ,\"and SD\", cross_score.std())"
   ]
  },
  {
   "cell_type": "markdown",
   "id": "49001133",
   "metadata": {},
   "source": [
    "There is no change in the mean in cross val"
   ]
  },
  {
   "cell_type": "code",
   "execution_count": 70,
   "id": "f73c4eb0",
   "metadata": {},
   "outputs": [],
   "source": [
    "# testing with Linear regression by using test data \n",
    "\n",
    "prediction = LR.predict(X_test_data)\n",
    "bigmart_test_ds[\"Prediction \"] = prediction"
   ]
  },
  {
   "cell_type": "code",
   "execution_count": 71,
   "id": "9e3f13f7",
   "metadata": {},
   "outputs": [],
   "source": [
    "bigmart_test_ds[\"Prediction \"] = prediction"
   ]
  },
  {
   "cell_type": "code",
   "execution_count": 72,
   "id": "9ff50ca1",
   "metadata": {},
   "outputs": [
    {
     "data": {
      "text/html": [
       "<div>\n",
       "<style scoped>\n",
       "    .dataframe tbody tr th:only-of-type {\n",
       "        vertical-align: middle;\n",
       "    }\n",
       "\n",
       "    .dataframe tbody tr th {\n",
       "        vertical-align: top;\n",
       "    }\n",
       "\n",
       "    .dataframe thead th {\n",
       "        text-align: right;\n",
       "    }\n",
       "</style>\n",
       "<table border=\"1\" class=\"dataframe\">\n",
       "  <thead>\n",
       "    <tr style=\"text-align: right;\">\n",
       "      <th></th>\n",
       "      <th>Item_Identifier</th>\n",
       "      <th>Item_Weight</th>\n",
       "      <th>Item_Visibility</th>\n",
       "      <th>Item_Type</th>\n",
       "      <th>Item_MRP</th>\n",
       "      <th>Outlet_Identifier</th>\n",
       "      <th>Outlet_Establishment_Year</th>\n",
       "      <th>Item_Fat_Content_Regular</th>\n",
       "      <th>Outlet_Size_Medium</th>\n",
       "      <th>Outlet_Size_Small</th>\n",
       "      <th>Outlet_Location_Type_Tier 2</th>\n",
       "      <th>Outlet_Location_Type_Tier 3</th>\n",
       "      <th>Outlet_Type_Supermarket Type1</th>\n",
       "      <th>Outlet_Type_Supermarket Type2</th>\n",
       "      <th>Outlet_Type_Supermarket Type3</th>\n",
       "      <th>Prediction</th>\n",
       "    </tr>\n",
       "  </thead>\n",
       "  <tbody>\n",
       "    <tr>\n",
       "      <th>4315</th>\n",
       "      <td>1247</td>\n",
       "      <td>10.000000</td>\n",
       "      <td>0.063210</td>\n",
       "      <td>13</td>\n",
       "      <td>126.6994</td>\n",
       "      <td>0</td>\n",
       "      <td>15</td>\n",
       "      <td>1</td>\n",
       "      <td>1</td>\n",
       "      <td>0</td>\n",
       "      <td>0</td>\n",
       "      <td>1</td>\n",
       "      <td>0</td>\n",
       "      <td>0</td>\n",
       "      <td>0</td>\n",
       "      <td>215.061322</td>\n",
       "    </tr>\n",
       "    <tr>\n",
       "      <th>2692</th>\n",
       "      <td>456</td>\n",
       "      <td>13.500000</td>\n",
       "      <td>0.129341</td>\n",
       "      <td>15</td>\n",
       "      <td>95.7068</td>\n",
       "      <td>3</td>\n",
       "      <td>4</td>\n",
       "      <td>1</td>\n",
       "      <td>1</td>\n",
       "      <td>0</td>\n",
       "      <td>0</td>\n",
       "      <td>1</td>\n",
       "      <td>0</td>\n",
       "      <td>1</td>\n",
       "      <td>0</td>\n",
       "      <td>1313.214727</td>\n",
       "    </tr>\n",
       "    <tr>\n",
       "      <th>4102</th>\n",
       "      <td>374</td>\n",
       "      <td>7.970000</td>\n",
       "      <td>0.021657</td>\n",
       "      <td>12</td>\n",
       "      <td>109.5596</td>\n",
       "      <td>2</td>\n",
       "      <td>6</td>\n",
       "      <td>0</td>\n",
       "      <td>1</td>\n",
       "      <td>0</td>\n",
       "      <td>1</td>\n",
       "      <td>0</td>\n",
       "      <td>1</td>\n",
       "      <td>0</td>\n",
       "      <td>0</td>\n",
       "      <td>1859.089634</td>\n",
       "    </tr>\n",
       "    <tr>\n",
       "      <th>1516</th>\n",
       "      <td>733</td>\n",
       "      <td>8.100000</td>\n",
       "      <td>0.224830</td>\n",
       "      <td>3</td>\n",
       "      <td>40.2480</td>\n",
       "      <td>0</td>\n",
       "      <td>15</td>\n",
       "      <td>1</td>\n",
       "      <td>1</td>\n",
       "      <td>0</td>\n",
       "      <td>0</td>\n",
       "      <td>1</td>\n",
       "      <td>0</td>\n",
       "      <td>0</td>\n",
       "      <td>0</td>\n",
       "      <td>-1166.234922</td>\n",
       "    </tr>\n",
       "    <tr>\n",
       "      <th>1956</th>\n",
       "      <td>467</td>\n",
       "      <td>12.867061</td>\n",
       "      <td>0.126255</td>\n",
       "      <td>5</td>\n",
       "      <td>76.8354</td>\n",
       "      <td>5</td>\n",
       "      <td>28</td>\n",
       "      <td>1</td>\n",
       "      <td>1</td>\n",
       "      <td>0</td>\n",
       "      <td>0</td>\n",
       "      <td>1</td>\n",
       "      <td>0</td>\n",
       "      <td>0</td>\n",
       "      <td>1</td>\n",
       "      <td>2743.027209</td>\n",
       "    </tr>\n",
       "    <tr>\n",
       "      <th>5352</th>\n",
       "      <td>1213</td>\n",
       "      <td>7.710000</td>\n",
       "      <td>0.047549</td>\n",
       "      <td>4</td>\n",
       "      <td>121.5756</td>\n",
       "      <td>1</td>\n",
       "      <td>26</td>\n",
       "      <td>1</td>\n",
       "      <td>0</td>\n",
       "      <td>0</td>\n",
       "      <td>0</td>\n",
       "      <td>1</td>\n",
       "      <td>1</td>\n",
       "      <td>0</td>\n",
       "      <td>0</td>\n",
       "      <td>2074.395732</td>\n",
       "    </tr>\n",
       "    <tr>\n",
       "      <th>55</th>\n",
       "      <td>392</td>\n",
       "      <td>7.855000</td>\n",
       "      <td>0.011279</td>\n",
       "      <td>3</td>\n",
       "      <td>188.8188</td>\n",
       "      <td>9</td>\n",
       "      <td>14</td>\n",
       "      <td>0</td>\n",
       "      <td>1</td>\n",
       "      <td>0</td>\n",
       "      <td>0</td>\n",
       "      <td>0</td>\n",
       "      <td>1</td>\n",
       "      <td>0</td>\n",
       "      <td>0</td>\n",
       "      <td>3102.280676</td>\n",
       "    </tr>\n",
       "    <tr>\n",
       "      <th>559</th>\n",
       "      <td>466</td>\n",
       "      <td>13.650000</td>\n",
       "      <td>0.073026</td>\n",
       "      <td>5</td>\n",
       "      <td>198.6426</td>\n",
       "      <td>9</td>\n",
       "      <td>14</td>\n",
       "      <td>1</td>\n",
       "      <td>1</td>\n",
       "      <td>0</td>\n",
       "      <td>0</td>\n",
       "      <td>0</td>\n",
       "      <td>1</td>\n",
       "      <td>0</td>\n",
       "      <td>0</td>\n",
       "      <td>3313.531733</td>\n",
       "    </tr>\n",
       "    <tr>\n",
       "      <th>4743</th>\n",
       "      <td>1241</td>\n",
       "      <td>11.000000</td>\n",
       "      <td>0.133688</td>\n",
       "      <td>3</td>\n",
       "      <td>222.0798</td>\n",
       "      <td>3</td>\n",
       "      <td>4</td>\n",
       "      <td>1</td>\n",
       "      <td>1</td>\n",
       "      <td>0</td>\n",
       "      <td>0</td>\n",
       "      <td>1</td>\n",
       "      <td>0</td>\n",
       "      <td>1</td>\n",
       "      <td>0</td>\n",
       "      <td>3302.038291</td>\n",
       "    </tr>\n",
       "    <tr>\n",
       "      <th>3016</th>\n",
       "      <td>947</td>\n",
       "      <td>4.920000</td>\n",
       "      <td>0.000000</td>\n",
       "      <td>0</td>\n",
       "      <td>200.3084</td>\n",
       "      <td>6</td>\n",
       "      <td>9</td>\n",
       "      <td>0</td>\n",
       "      <td>0</td>\n",
       "      <td>1</td>\n",
       "      <td>1</td>\n",
       "      <td>0</td>\n",
       "      <td>1</td>\n",
       "      <td>0</td>\n",
       "      <td>0</td>\n",
       "      <td>3318.696159</td>\n",
       "    </tr>\n",
       "  </tbody>\n",
       "</table>\n",
       "</div>"
      ],
      "text/plain": [
       "      Item_Identifier  Item_Weight  Item_Visibility  Item_Type  Item_MRP  \\\n",
       "4315             1247    10.000000         0.063210         13  126.6994   \n",
       "2692              456    13.500000         0.129341         15   95.7068   \n",
       "4102              374     7.970000         0.021657         12  109.5596   \n",
       "1516              733     8.100000         0.224830          3   40.2480   \n",
       "1956              467    12.867061         0.126255          5   76.8354   \n",
       "5352             1213     7.710000         0.047549          4  121.5756   \n",
       "55                392     7.855000         0.011279          3  188.8188   \n",
       "559               466    13.650000         0.073026          5  198.6426   \n",
       "4743             1241    11.000000         0.133688          3  222.0798   \n",
       "3016              947     4.920000         0.000000          0  200.3084   \n",
       "\n",
       "      Outlet_Identifier  Outlet_Establishment_Year  Item_Fat_Content_Regular  \\\n",
       "4315                  0                         15                         1   \n",
       "2692                  3                          4                         1   \n",
       "4102                  2                          6                         0   \n",
       "1516                  0                         15                         1   \n",
       "1956                  5                         28                         1   \n",
       "5352                  1                         26                         1   \n",
       "55                    9                         14                         0   \n",
       "559                   9                         14                         1   \n",
       "4743                  3                          4                         1   \n",
       "3016                  6                          9                         0   \n",
       "\n",
       "      Outlet_Size_Medium  Outlet_Size_Small  Outlet_Location_Type_Tier 2  \\\n",
       "4315                   1                  0                            0   \n",
       "2692                   1                  0                            0   \n",
       "4102                   1                  0                            1   \n",
       "1516                   1                  0                            0   \n",
       "1956                   1                  0                            0   \n",
       "5352                   0                  0                            0   \n",
       "55                     1                  0                            0   \n",
       "559                    1                  0                            0   \n",
       "4743                   1                  0                            0   \n",
       "3016                   0                  1                            1   \n",
       "\n",
       "      Outlet_Location_Type_Tier 3  Outlet_Type_Supermarket Type1  \\\n",
       "4315                            1                              0   \n",
       "2692                            1                              0   \n",
       "4102                            0                              1   \n",
       "1516                            1                              0   \n",
       "1956                            1                              0   \n",
       "5352                            1                              1   \n",
       "55                              0                              1   \n",
       "559                             0                              1   \n",
       "4743                            1                              0   \n",
       "3016                            0                              1   \n",
       "\n",
       "      Outlet_Type_Supermarket Type2  Outlet_Type_Supermarket Type3  \\\n",
       "4315                              0                              0   \n",
       "2692                              1                              0   \n",
       "4102                              0                              0   \n",
       "1516                              0                              0   \n",
       "1956                              0                              1   \n",
       "5352                              0                              0   \n",
       "55                                0                              0   \n",
       "559                               0                              0   \n",
       "4743                              1                              0   \n",
       "3016                              0                              0   \n",
       "\n",
       "      Prediction   \n",
       "4315   215.061322  \n",
       "2692  1313.214727  \n",
       "4102  1859.089634  \n",
       "1516 -1166.234922  \n",
       "1956  2743.027209  \n",
       "5352  2074.395732  \n",
       "55    3102.280676  \n",
       "559   3313.531733  \n",
       "4743  3302.038291  \n",
       "3016  3318.696159  "
      ]
     },
     "execution_count": 72,
     "metadata": {},
     "output_type": "execute_result"
    }
   ],
   "source": [
    "\n",
    "bigmart_test_ds.sample(10)"
   ]
  },
  {
   "cell_type": "markdown",
   "id": "c2e7e3fc",
   "metadata": {},
   "source": [
    "# Conclusion:-"
   ]
  },
  {
   "cell_type": "markdown",
   "id": "58e160ee",
   "metadata": {},
   "source": [
    "have tried multiple models to train the data but two of them are performed ok on the data points one is LinearRegression and Randomforest. we could not selected Ramdon forest as final one because it was overfitting and Linear regression model's score is quite close training and test score. I have tried Ridge and lasso regression also to check wheather we can have more improvement or not but linear one is woking well. So as a final one i have selected Linear regression one and tested the test data with that one and saved that model as well"
   ]
  },
  {
   "cell_type": "markdown",
   "id": "0d0b3f71",
   "metadata": {},
   "source": [
    "# Model saving"
   ]
  },
  {
   "cell_type": "code",
   "execution_count": 73,
   "id": "fd3dc19e",
   "metadata": {},
   "outputs": [],
   "source": [
    "import pickle\n",
    "with open(\"Bigmart_sale.pkl\", \"wb\")as f:\n",
    "    pickle.dump(LR,f)"
   ]
  },
  {
   "cell_type": "markdown",
   "id": "c059a14a",
   "metadata": {},
   "source": [
    "# THE END"
   ]
  },
  {
   "cell_type": "code",
   "execution_count": null,
   "id": "df591e20",
   "metadata": {},
   "outputs": [],
   "source": []
  }
 ],
 "metadata": {
  "kernelspec": {
   "display_name": "Python 3 (ipykernel)",
   "language": "python",
   "name": "python3"
  },
  "language_info": {
   "codemirror_mode": {
    "name": "ipython",
    "version": 3
   },
   "file_extension": ".py",
   "mimetype": "text/x-python",
   "name": "python",
   "nbconvert_exporter": "python",
   "pygments_lexer": "ipython3",
   "version": "3.8.8"
  }
 },
 "nbformat": 4,
 "nbformat_minor": 5
}
