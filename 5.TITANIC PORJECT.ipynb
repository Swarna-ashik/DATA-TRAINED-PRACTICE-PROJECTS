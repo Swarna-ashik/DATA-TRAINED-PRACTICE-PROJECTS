{
 "cells": [
  {
   "cell_type": "markdown",
   "id": "e4bf82f1",
   "metadata": {},
   "source": [
    "# Titanic Project"
   ]
  },
  {
   "cell_type": "markdown",
   "id": "796584e8",
   "metadata": {},
   "source": [
    "Problem Statement:\n",
    " The Titanic Problem is based on the sinking of the ‘Unsinkable’ ship Titanic in early 1912. It gives you information about multiple people like their ages, sexes, sibling counts, embarkment points, and whether or not they survived the disaster. Based on these features, you have to predict if an arbitrary passenger on Titanic would survive the sinking or not. "
   ]
  },
  {
   "cell_type": "code",
   "execution_count": null,
   "id": "58e26a12",
   "metadata": {},
   "outputs": [],
   "source": []
  },
  {
   "cell_type": "code",
   "execution_count": 8,
   "id": "1f5bcde2",
   "metadata": {},
   "outputs": [],
   "source": [
    "import pandas as pd\n",
    "import numpy as np\n",
    "import matplotlib.pyplot as plt\n",
    "import seaborn as sns\n",
    "from sklearn.model_selection import train_test_split, GridSearchCV, cross_val_score\n",
    "from sklearn.linear_model import LogisticRegression\n",
    "from sklearn.tree import DecisionTreeClassifier\n",
    "from sklearn.ensemble import RandomForestClassifier\n",
    "from sklearn.ensemble  import AdaBoostClassifier\n",
    "from sklearn.neighbors import KNeighborsClassifier\n",
    "from sklearn.svm import SVC\n",
    "from sklearn.metrics import roc_auc_score, accuracy_score, confusion_matrix, classification_report\n",
    "from sklearn.preprocessing import StandardScaler\n",
    "import warnings\n",
    "warnings.filterwarnings(\"ignore\")"
   ]
  },
  {
   "cell_type": "code",
   "execution_count": 10,
   "id": "c05c17fd",
   "metadata": {},
   "outputs": [
    {
     "data": {
      "text/html": [
       "<div>\n",
       "<style scoped>\n",
       "    .dataframe tbody tr th:only-of-type {\n",
       "        vertical-align: middle;\n",
       "    }\n",
       "\n",
       "    .dataframe tbody tr th {\n",
       "        vertical-align: top;\n",
       "    }\n",
       "\n",
       "    .dataframe thead th {\n",
       "        text-align: right;\n",
       "    }\n",
       "</style>\n",
       "<table border=\"1\" class=\"dataframe\">\n",
       "  <thead>\n",
       "    <tr style=\"text-align: right;\">\n",
       "      <th></th>\n",
       "      <th>PassengerId</th>\n",
       "      <th>Survived</th>\n",
       "      <th>Pclass</th>\n",
       "      <th>Name</th>\n",
       "      <th>Sex</th>\n",
       "      <th>Age</th>\n",
       "      <th>SibSp</th>\n",
       "      <th>Parch</th>\n",
       "      <th>Ticket</th>\n",
       "      <th>Fare</th>\n",
       "      <th>Cabin</th>\n",
       "      <th>Embarked</th>\n",
       "    </tr>\n",
       "  </thead>\n",
       "  <tbody>\n",
       "    <tr>\n",
       "      <th>226</th>\n",
       "      <td>227</td>\n",
       "      <td>1</td>\n",
       "      <td>2</td>\n",
       "      <td>Mellors, Mr. William John</td>\n",
       "      <td>male</td>\n",
       "      <td>19.0</td>\n",
       "      <td>0</td>\n",
       "      <td>0</td>\n",
       "      <td>SW/PP 751</td>\n",
       "      <td>10.5000</td>\n",
       "      <td>NaN</td>\n",
       "      <td>S</td>\n",
       "    </tr>\n",
       "    <tr>\n",
       "      <th>830</th>\n",
       "      <td>831</td>\n",
       "      <td>1</td>\n",
       "      <td>3</td>\n",
       "      <td>Yasbeck, Mrs. Antoni (Selini Alexander)</td>\n",
       "      <td>female</td>\n",
       "      <td>15.0</td>\n",
       "      <td>1</td>\n",
       "      <td>0</td>\n",
       "      <td>2659</td>\n",
       "      <td>14.4542</td>\n",
       "      <td>NaN</td>\n",
       "      <td>C</td>\n",
       "    </tr>\n",
       "    <tr>\n",
       "      <th>141</th>\n",
       "      <td>142</td>\n",
       "      <td>1</td>\n",
       "      <td>3</td>\n",
       "      <td>Nysten, Miss. Anna Sofia</td>\n",
       "      <td>female</td>\n",
       "      <td>22.0</td>\n",
       "      <td>0</td>\n",
       "      <td>0</td>\n",
       "      <td>347081</td>\n",
       "      <td>7.7500</td>\n",
       "      <td>NaN</td>\n",
       "      <td>S</td>\n",
       "    </tr>\n",
       "    <tr>\n",
       "      <th>282</th>\n",
       "      <td>283</td>\n",
       "      <td>0</td>\n",
       "      <td>3</td>\n",
       "      <td>de Pelsmaeker, Mr. Alfons</td>\n",
       "      <td>male</td>\n",
       "      <td>16.0</td>\n",
       "      <td>0</td>\n",
       "      <td>0</td>\n",
       "      <td>345778</td>\n",
       "      <td>9.5000</td>\n",
       "      <td>NaN</td>\n",
       "      <td>S</td>\n",
       "    </tr>\n",
       "    <tr>\n",
       "      <th>857</th>\n",
       "      <td>858</td>\n",
       "      <td>1</td>\n",
       "      <td>1</td>\n",
       "      <td>Daly, Mr. Peter Denis</td>\n",
       "      <td>male</td>\n",
       "      <td>51.0</td>\n",
       "      <td>0</td>\n",
       "      <td>0</td>\n",
       "      <td>113055</td>\n",
       "      <td>26.5500</td>\n",
       "      <td>E17</td>\n",
       "      <td>S</td>\n",
       "    </tr>\n",
       "    <tr>\n",
       "      <th>890</th>\n",
       "      <td>891</td>\n",
       "      <td>0</td>\n",
       "      <td>3</td>\n",
       "      <td>Dooley, Mr. Patrick</td>\n",
       "      <td>male</td>\n",
       "      <td>32.0</td>\n",
       "      <td>0</td>\n",
       "      <td>0</td>\n",
       "      <td>370376</td>\n",
       "      <td>7.7500</td>\n",
       "      <td>NaN</td>\n",
       "      <td>Q</td>\n",
       "    </tr>\n",
       "    <tr>\n",
       "      <th>365</th>\n",
       "      <td>366</td>\n",
       "      <td>0</td>\n",
       "      <td>3</td>\n",
       "      <td>Adahl, Mr. Mauritz Nils Martin</td>\n",
       "      <td>male</td>\n",
       "      <td>30.0</td>\n",
       "      <td>0</td>\n",
       "      <td>0</td>\n",
       "      <td>C 7076</td>\n",
       "      <td>7.2500</td>\n",
       "      <td>NaN</td>\n",
       "      <td>S</td>\n",
       "    </tr>\n",
       "    <tr>\n",
       "      <th>317</th>\n",
       "      <td>318</td>\n",
       "      <td>0</td>\n",
       "      <td>2</td>\n",
       "      <td>Moraweck, Dr. Ernest</td>\n",
       "      <td>male</td>\n",
       "      <td>54.0</td>\n",
       "      <td>0</td>\n",
       "      <td>0</td>\n",
       "      <td>29011</td>\n",
       "      <td>14.0000</td>\n",
       "      <td>NaN</td>\n",
       "      <td>S</td>\n",
       "    </tr>\n",
       "    <tr>\n",
       "      <th>672</th>\n",
       "      <td>673</td>\n",
       "      <td>0</td>\n",
       "      <td>2</td>\n",
       "      <td>Mitchell, Mr. Henry Michael</td>\n",
       "      <td>male</td>\n",
       "      <td>70.0</td>\n",
       "      <td>0</td>\n",
       "      <td>0</td>\n",
       "      <td>C.A. 24580</td>\n",
       "      <td>10.5000</td>\n",
       "      <td>NaN</td>\n",
       "      <td>S</td>\n",
       "    </tr>\n",
       "    <tr>\n",
       "      <th>358</th>\n",
       "      <td>359</td>\n",
       "      <td>1</td>\n",
       "      <td>3</td>\n",
       "      <td>McGovern, Miss. Mary</td>\n",
       "      <td>female</td>\n",
       "      <td>NaN</td>\n",
       "      <td>0</td>\n",
       "      <td>0</td>\n",
       "      <td>330931</td>\n",
       "      <td>7.8792</td>\n",
       "      <td>NaN</td>\n",
       "      <td>Q</td>\n",
       "    </tr>\n",
       "  </tbody>\n",
       "</table>\n",
       "</div>"
      ],
      "text/plain": [
       "     PassengerId  Survived  Pclass                                     Name  \\\n",
       "226          227         1       2                Mellors, Mr. William John   \n",
       "830          831         1       3  Yasbeck, Mrs. Antoni (Selini Alexander)   \n",
       "141          142         1       3                 Nysten, Miss. Anna Sofia   \n",
       "282          283         0       3                de Pelsmaeker, Mr. Alfons   \n",
       "857          858         1       1                   Daly, Mr. Peter Denis    \n",
       "890          891         0       3                      Dooley, Mr. Patrick   \n",
       "365          366         0       3           Adahl, Mr. Mauritz Nils Martin   \n",
       "317          318         0       2                     Moraweck, Dr. Ernest   \n",
       "672          673         0       2              Mitchell, Mr. Henry Michael   \n",
       "358          359         1       3                     McGovern, Miss. Mary   \n",
       "\n",
       "        Sex   Age  SibSp  Parch      Ticket     Fare Cabin Embarked  \n",
       "226    male  19.0      0      0   SW/PP 751  10.5000   NaN        S  \n",
       "830  female  15.0      1      0        2659  14.4542   NaN        C  \n",
       "141  female  22.0      0      0      347081   7.7500   NaN        S  \n",
       "282    male  16.0      0      0      345778   9.5000   NaN        S  \n",
       "857    male  51.0      0      0      113055  26.5500   E17        S  \n",
       "890    male  32.0      0      0      370376   7.7500   NaN        Q  \n",
       "365    male  30.0      0      0      C 7076   7.2500   NaN        S  \n",
       "317    male  54.0      0      0       29011  14.0000   NaN        S  \n",
       "672    male  70.0      0      0  C.A. 24580  10.5000   NaN        S  \n",
       "358  female   NaN      0      0      330931   7.8792   NaN        Q  "
      ]
     },
     "execution_count": 10,
     "metadata": {},
     "output_type": "execute_result"
    }
   ],
   "source": [
    "titanic_ds = pd.read_csv(\"Titanic.csv\")\n",
    "titanic_ds.sample(10)"
   ]
  },
  {
   "cell_type": "code",
   "execution_count": 11,
   "id": "69e81f9f",
   "metadata": {},
   "outputs": [
    {
     "name": "stdout",
     "output_type": "stream",
     "text": [
      "<class 'pandas.core.frame.DataFrame'>\n",
      "RangeIndex: 891 entries, 0 to 890\n",
      "Data columns (total 12 columns):\n",
      " #   Column       Non-Null Count  Dtype  \n",
      "---  ------       --------------  -----  \n",
      " 0   PassengerId  891 non-null    int64  \n",
      " 1   Survived     891 non-null    int64  \n",
      " 2   Pclass       891 non-null    int64  \n",
      " 3   Name         891 non-null    object \n",
      " 4   Sex          891 non-null    object \n",
      " 5   Age          714 non-null    float64\n",
      " 6   SibSp        891 non-null    int64  \n",
      " 7   Parch        891 non-null    int64  \n",
      " 8   Ticket       891 non-null    object \n",
      " 9   Fare         891 non-null    float64\n",
      " 10  Cabin        204 non-null    object \n",
      " 11  Embarked     889 non-null    object \n",
      "dtypes: float64(2), int64(5), object(5)\n",
      "memory usage: 83.7+ KB\n"
     ]
    }
   ],
   "source": [
    "titanic_ds.info()"
   ]
  },
  {
   "cell_type": "markdown",
   "id": "a54cd095",
   "metadata": {},
   "source": [
    "Observation\n",
    "It has 891 observations, 11 predictors and 1 target variable. dataset consists of 5 INT columns,5 objects columns and 2 float.\n",
    "it has seen that two columns have missing values \"Age\" and \"Cabin\""
   ]
  },
  {
   "cell_type": "markdown",
   "id": "c1127638",
   "metadata": {},
   "source": [
    "# Impute missing value"
   ]
  },
  {
   "cell_type": "code",
   "execution_count": 12,
   "id": "5c4a873e",
   "metadata": {},
   "outputs": [
    {
     "name": "stdout",
     "output_type": "stream",
     "text": [
      "{'Age': 19.865319865319865, 'Cabin': 77.10437710437711, 'Embarked': 0.22446689113355783}\n"
     ]
    }
   ],
   "source": [
    "missing_val = {}\n",
    "for i in titanic_ds.columns:\n",
    "    if titanic_ds[i].isnull().sum() >0:\n",
    "        missing_val[i] = titanic_ds[i].isnull().sum()/len(titanic_ds)*100\n",
    "print(missing_val)        "
   ]
  },
  {
   "cell_type": "code",
   "execution_count": 13,
   "id": "5c787af5",
   "metadata": {},
   "outputs": [],
   "source": [
    "def missing_Val(col):\n",
    "    Age = col[0]\n",
    "    Sex = col[1]\n",
    "    \n",
    "    if pd.isnull(Age):\n",
    "        if Sex ==\"male\":\n",
    "            return 30.726645\n",
    "        elif Sex ==\"female\":\n",
    "            return 27.915709\n",
    "    else:\n",
    "        return Age"
   ]
  },
  {
   "cell_type": "code",
   "execution_count": 14,
   "id": "ec9608ab",
   "metadata": {},
   "outputs": [],
   "source": [
    "titanic_ds[\"Age\"] = titanic_ds[[\"Age\",\"Sex\"]].apply(missing_Val,axis = 1)"
   ]
  },
  {
   "cell_type": "code",
   "execution_count": 15,
   "id": "7fe9497f",
   "metadata": {},
   "outputs": [],
   "source": [
    "def impute_fare(col):\n",
    "    Fare = col[0]\n",
    "    Pclass = col[1]\n",
    "    \n",
    "    if pd.isnull(Fare):\n",
    "        if Pclass ==1:\n",
    "            return 84.154687\n",
    "        elif Pclass ==2:\n",
    "            return 20.662183\n",
    "        else:\n",
    "            return 13.675550\n",
    "    else:\n",
    "        return Fare"
   ]
  },
  {
   "cell_type": "code",
   "execution_count": 16,
   "id": "55614417",
   "metadata": {},
   "outputs": [],
   "source": [
    "titanic_ds[\"Fare\"] = titanic_ds[\"Fare\"].replace(0,np.nan) \n",
    "titanic_ds[\"Fare\"] = titanic_ds[[\"Fare\",\"Pclass\"]].apply(impute_fare, axis = 1)"
   ]
  },
  {
   "cell_type": "code",
   "execution_count": 17,
   "id": "c945df51",
   "metadata": {},
   "outputs": [],
   "source": [
    "titanic_ds[\"Embarked\"] =titanic_ds[\"Embarked\"].fillna(\"S\") "
   ]
  },
  {
   "cell_type": "code",
   "execution_count": 18,
   "id": "41804538",
   "metadata": {},
   "outputs": [
    {
     "name": "stdout",
     "output_type": "stream",
     "text": [
      "{'Cabin': 77.10437710437711}\n"
     ]
    }
   ],
   "source": [
    "missing_val = {}\n",
    "for i in titanic_ds.columns:\n",
    "    if titanic_ds[i].isnull().sum() >0:\n",
    "        missing_val[i] = titanic_ds[i].isnull().sum()/len(titanic_ds)*100\n",
    "print(missing_val)"
   ]
  },
  {
   "cell_type": "markdown",
   "id": "3d4519a6",
   "metadata": {},
   "source": [
    "observation\n",
    "while missing value analysis, we have observed 3 columsn have missing data. 1 Age which has 20% missing values 2. Cabin column has 77% missing value, lot of values and 3rd one is embarked which has only 2 observatios.\n",
    "Age is imputed basis the sex columns considering that difference between male and female ages and embarked imputed with mode value since it is object column\n",
    "we also observed that minimum fare value is 0 which is not a real one so we have replace 0 with nan for imputation and it imputed with pclass wise fare value\n",
    "cabin column has lot of missing value and it is adviable to delete it"
   ]
  },
  {
   "cell_type": "markdown",
   "id": "ddacbcff",
   "metadata": {},
   "source": [
    "# EDA"
   ]
  },
  {
   "cell_type": "code",
   "execution_count": 19,
   "id": "b1510eee",
   "metadata": {},
   "outputs": [
    {
     "data": {
      "text/html": [
       "<div>\n",
       "<style scoped>\n",
       "    .dataframe tbody tr th:only-of-type {\n",
       "        vertical-align: middle;\n",
       "    }\n",
       "\n",
       "    .dataframe tbody tr th {\n",
       "        vertical-align: top;\n",
       "    }\n",
       "\n",
       "    .dataframe thead th {\n",
       "        text-align: right;\n",
       "    }\n",
       "</style>\n",
       "<table border=\"1\" class=\"dataframe\">\n",
       "  <thead>\n",
       "    <tr style=\"text-align: right;\">\n",
       "      <th></th>\n",
       "      <th>PassengerId</th>\n",
       "      <th>Survived</th>\n",
       "      <th>Pclass</th>\n",
       "      <th>Age</th>\n",
       "      <th>SibSp</th>\n",
       "      <th>Parch</th>\n",
       "      <th>Fare</th>\n",
       "    </tr>\n",
       "  </thead>\n",
       "  <tbody>\n",
       "    <tr>\n",
       "      <th>count</th>\n",
       "      <td>891.000000</td>\n",
       "      <td>891.000000</td>\n",
       "      <td>891.000000</td>\n",
       "      <td>891.000000</td>\n",
       "      <td>891.000000</td>\n",
       "      <td>891.000000</td>\n",
       "      <td>891.000000</td>\n",
       "    </tr>\n",
       "    <tr>\n",
       "      <th>mean</th>\n",
       "      <td>446.000000</td>\n",
       "      <td>0.383838</td>\n",
       "      <td>2.308642</td>\n",
       "      <td>29.736034</td>\n",
       "      <td>0.523008</td>\n",
       "      <td>0.381594</td>\n",
       "      <td>32.876990</td>\n",
       "    </tr>\n",
       "    <tr>\n",
       "      <th>std</th>\n",
       "      <td>257.353842</td>\n",
       "      <td>0.486592</td>\n",
       "      <td>0.836071</td>\n",
       "      <td>13.014897</td>\n",
       "      <td>1.102743</td>\n",
       "      <td>0.806057</td>\n",
       "      <td>49.690114</td>\n",
       "    </tr>\n",
       "    <tr>\n",
       "      <th>min</th>\n",
       "      <td>1.000000</td>\n",
       "      <td>0.000000</td>\n",
       "      <td>1.000000</td>\n",
       "      <td>0.420000</td>\n",
       "      <td>0.000000</td>\n",
       "      <td>0.000000</td>\n",
       "      <td>4.012500</td>\n",
       "    </tr>\n",
       "    <tr>\n",
       "      <th>25%</th>\n",
       "      <td>223.500000</td>\n",
       "      <td>0.000000</td>\n",
       "      <td>2.000000</td>\n",
       "      <td>22.000000</td>\n",
       "      <td>0.000000</td>\n",
       "      <td>0.000000</td>\n",
       "      <td>7.925000</td>\n",
       "    </tr>\n",
       "    <tr>\n",
       "      <th>50%</th>\n",
       "      <td>446.000000</td>\n",
       "      <td>0.000000</td>\n",
       "      <td>3.000000</td>\n",
       "      <td>30.000000</td>\n",
       "      <td>0.000000</td>\n",
       "      <td>0.000000</td>\n",
       "      <td>14.500000</td>\n",
       "    </tr>\n",
       "    <tr>\n",
       "      <th>75%</th>\n",
       "      <td>668.500000</td>\n",
       "      <td>1.000000</td>\n",
       "      <td>3.000000</td>\n",
       "      <td>35.000000</td>\n",
       "      <td>1.000000</td>\n",
       "      <td>0.000000</td>\n",
       "      <td>31.275000</td>\n",
       "    </tr>\n",
       "    <tr>\n",
       "      <th>max</th>\n",
       "      <td>891.000000</td>\n",
       "      <td>1.000000</td>\n",
       "      <td>3.000000</td>\n",
       "      <td>80.000000</td>\n",
       "      <td>8.000000</td>\n",
       "      <td>6.000000</td>\n",
       "      <td>512.329200</td>\n",
       "    </tr>\n",
       "  </tbody>\n",
       "</table>\n",
       "</div>"
      ],
      "text/plain": [
       "       PassengerId    Survived      Pclass         Age       SibSp  \\\n",
       "count   891.000000  891.000000  891.000000  891.000000  891.000000   \n",
       "mean    446.000000    0.383838    2.308642   29.736034    0.523008   \n",
       "std     257.353842    0.486592    0.836071   13.014897    1.102743   \n",
       "min       1.000000    0.000000    1.000000    0.420000    0.000000   \n",
       "25%     223.500000    0.000000    2.000000   22.000000    0.000000   \n",
       "50%     446.000000    0.000000    3.000000   30.000000    0.000000   \n",
       "75%     668.500000    1.000000    3.000000   35.000000    1.000000   \n",
       "max     891.000000    1.000000    3.000000   80.000000    8.000000   \n",
       "\n",
       "            Parch        Fare  \n",
       "count  891.000000  891.000000  \n",
       "mean     0.381594   32.876990  \n",
       "std      0.806057   49.690114  \n",
       "min      0.000000    4.012500  \n",
       "25%      0.000000    7.925000  \n",
       "50%      0.000000   14.500000  \n",
       "75%      0.000000   31.275000  \n",
       "max      6.000000  512.329200  "
      ]
     },
     "execution_count": 19,
     "metadata": {},
     "output_type": "execute_result"
    }
   ],
   "source": [
    "\n",
    "titanic_ds.describe() #all numerical columns"
   ]
  },
  {
   "cell_type": "code",
   "execution_count": 20,
   "id": "406e51d1",
   "metadata": {},
   "outputs": [
    {
     "data": {
      "text/html": [
       "<div>\n",
       "<style scoped>\n",
       "    .dataframe tbody tr th:only-of-type {\n",
       "        vertical-align: middle;\n",
       "    }\n",
       "\n",
       "    .dataframe tbody tr th {\n",
       "        vertical-align: top;\n",
       "    }\n",
       "\n",
       "    .dataframe thead th {\n",
       "        text-align: right;\n",
       "    }\n",
       "</style>\n",
       "<table border=\"1\" class=\"dataframe\">\n",
       "  <thead>\n",
       "    <tr style=\"text-align: right;\">\n",
       "      <th></th>\n",
       "      <th>Name</th>\n",
       "      <th>Sex</th>\n",
       "      <th>Ticket</th>\n",
       "      <th>Cabin</th>\n",
       "      <th>Embarked</th>\n",
       "    </tr>\n",
       "  </thead>\n",
       "  <tbody>\n",
       "    <tr>\n",
       "      <th>count</th>\n",
       "      <td>891</td>\n",
       "      <td>891</td>\n",
       "      <td>891</td>\n",
       "      <td>204</td>\n",
       "      <td>891</td>\n",
       "    </tr>\n",
       "    <tr>\n",
       "      <th>unique</th>\n",
       "      <td>891</td>\n",
       "      <td>2</td>\n",
       "      <td>681</td>\n",
       "      <td>147</td>\n",
       "      <td>3</td>\n",
       "    </tr>\n",
       "    <tr>\n",
       "      <th>top</th>\n",
       "      <td>Braund, Mr. Owen Harris</td>\n",
       "      <td>male</td>\n",
       "      <td>347082</td>\n",
       "      <td>B96 B98</td>\n",
       "      <td>S</td>\n",
       "    </tr>\n",
       "    <tr>\n",
       "      <th>freq</th>\n",
       "      <td>1</td>\n",
       "      <td>577</td>\n",
       "      <td>7</td>\n",
       "      <td>4</td>\n",
       "      <td>646</td>\n",
       "    </tr>\n",
       "  </tbody>\n",
       "</table>\n",
       "</div>"
      ],
      "text/plain": [
       "                           Name   Sex  Ticket    Cabin Embarked\n",
       "count                       891   891     891      204      891\n",
       "unique                      891     2     681      147        3\n",
       "top     Braund, Mr. Owen Harris  male  347082  B96 B98        S\n",
       "freq                          1   577       7        4      646"
      ]
     },
     "execution_count": 20,
     "metadata": {},
     "output_type": "execute_result"
    }
   ],
   "source": [
    "titanic_ds.select_dtypes(include = \"object\").describe() # describe all object columns"
   ]
  },
  {
   "cell_type": "markdown",
   "id": "68ce690d",
   "metadata": {},
   "source": [
    "Fare column has extreme max value, count of male onboading on the ship is more than female and maximum people belongs to Southampton"
   ]
  },
  {
   "cell_type": "code",
   "execution_count": 21,
   "id": "4db3bf2b",
   "metadata": {},
   "outputs": [
    {
     "data": {
      "text/html": [
       "<div>\n",
       "<style scoped>\n",
       "    .dataframe tbody tr th:only-of-type {\n",
       "        vertical-align: middle;\n",
       "    }\n",
       "\n",
       "    .dataframe tbody tr th {\n",
       "        vertical-align: top;\n",
       "    }\n",
       "\n",
       "    .dataframe thead th {\n",
       "        text-align: right;\n",
       "    }\n",
       "</style>\n",
       "<table border=\"1\" class=\"dataframe\">\n",
       "  <thead>\n",
       "    <tr style=\"text-align: right;\">\n",
       "      <th></th>\n",
       "      <th>PassengerId</th>\n",
       "      <th>Survived</th>\n",
       "      <th>Pclass</th>\n",
       "      <th>Age</th>\n",
       "      <th>SibSp</th>\n",
       "      <th>Parch</th>\n",
       "      <th>Fare</th>\n",
       "    </tr>\n",
       "    <tr>\n",
       "      <th>Sex</th>\n",
       "      <th></th>\n",
       "      <th></th>\n",
       "      <th></th>\n",
       "      <th></th>\n",
       "      <th></th>\n",
       "      <th></th>\n",
       "      <th></th>\n",
       "    </tr>\n",
       "  </thead>\n",
       "  <tbody>\n",
       "    <tr>\n",
       "      <th>female</th>\n",
       "      <td>431.028662</td>\n",
       "      <td>0.742038</td>\n",
       "      <td>2.159236</td>\n",
       "      <td>27.915709</td>\n",
       "      <td>0.694268</td>\n",
       "      <td>0.649682</td>\n",
       "      <td>44.479818</td>\n",
       "    </tr>\n",
       "    <tr>\n",
       "      <th>male</th>\n",
       "      <td>454.147314</td>\n",
       "      <td>0.188908</td>\n",
       "      <td>2.389948</td>\n",
       "      <td>30.726645</td>\n",
       "      <td>0.429809</td>\n",
       "      <td>0.235702</td>\n",
       "      <td>26.562799</td>\n",
       "    </tr>\n",
       "  </tbody>\n",
       "</table>\n",
       "</div>"
      ],
      "text/plain": [
       "        PassengerId  Survived    Pclass        Age     SibSp     Parch  \\\n",
       "Sex                                                                      \n",
       "female   431.028662  0.742038  2.159236  27.915709  0.694268  0.649682   \n",
       "male     454.147314  0.188908  2.389948  30.726645  0.429809  0.235702   \n",
       "\n",
       "             Fare  \n",
       "Sex                \n",
       "female  44.479818  \n",
       "male    26.562799  "
      ]
     },
     "execution_count": 21,
     "metadata": {},
     "output_type": "execute_result"
    }
   ],
   "source": [
    "# sex column wise average of other columns\n",
    "titanic_ds.groupby(\"Sex\").mean() "
   ]
  },
  {
   "cell_type": "markdown",
   "id": "f7adb873",
   "metadata": {},
   "source": [
    "Female paid more fare than male and the average age for male was older than female"
   ]
  },
  {
   "cell_type": "code",
   "execution_count": 22,
   "id": "fad820cf",
   "metadata": {},
   "outputs": [
    {
     "data": {
      "text/plain": [
       "Text(0.5, 1.0, 'Survival count plot')"
      ]
     },
     "execution_count": 22,
     "metadata": {},
     "output_type": "execute_result"
    },
    {
     "data": {
      "image/png": "[encoded data removed]",
      "text/plain": [
       "<Figure size 432x288 with 1 Axes>"
      ]
     },
     "metadata": {
      "needs_background": "light"
     },
     "output_type": "display_data"
    }
   ],
   "source": [
    "sns.countplot(titanic_ds[\"Survived\"])\n",
    "plt.title(\"Survival count plot\")"
   ]
  },
  {
   "cell_type": "markdown",
   "id": "89e55c00",
   "metadata": {},
   "source": [
    "Sirvival count is less than number prople lost their lives"
   ]
  },
  {
   "cell_type": "code",
   "execution_count": 23,
   "id": "6a2f49e9",
   "metadata": {},
   "outputs": [
    {
     "data": {
      "text/plain": [
       "Pclass  Sex     Survived\n",
       "1       female  0             3\n",
       "                1            91\n",
       "        male    0            77\n",
       "                1            45\n",
       "2       female  0             6\n",
       "                1            70\n",
       "        male    0            91\n",
       "                1            17\n",
       "3       female  0            72\n",
       "                1            72\n",
       "        male    0           300\n",
       "                1            47\n",
       "Name: Survived, dtype: int64"
      ]
     },
     "execution_count": 23,
     "metadata": {},
     "output_type": "execute_result"
    }
   ],
   "source": [
    "titanic_ds.groupby([\"Pclass\",\"Sex\",\"Survived\"])[\"Survived\"].count()"
   ]
  },
  {
   "cell_type": "markdown",
   "id": "181709c1",
   "metadata": {},
   "source": [
    "Survival ratio for female is more than male. pclass 3rd's male dead ratio is more than other category"
   ]
  },
  {
   "cell_type": "code",
   "execution_count": 24,
   "id": "dd1f50c2",
   "metadata": {},
   "outputs": [
    {
     "data": {
      "text/html": [
       "<div>\n",
       "<style scoped>\n",
       "    .dataframe tbody tr th:only-of-type {\n",
       "        vertical-align: middle;\n",
       "    }\n",
       "\n",
       "    .dataframe tbody tr th {\n",
       "        vertical-align: top;\n",
       "    }\n",
       "\n",
       "    .dataframe thead th {\n",
       "        text-align: right;\n",
       "    }\n",
       "</style>\n",
       "<table border=\"1\" class=\"dataframe\">\n",
       "  <thead>\n",
       "    <tr style=\"text-align: right;\">\n",
       "      <th></th>\n",
       "      <th>PassengerId</th>\n",
       "      <th>Survived</th>\n",
       "      <th>Age</th>\n",
       "      <th>SibSp</th>\n",
       "      <th>Parch</th>\n",
       "      <th>Fare</th>\n",
       "    </tr>\n",
       "    <tr>\n",
       "      <th>Pclass</th>\n",
       "      <th></th>\n",
       "      <th></th>\n",
       "      <th></th>\n",
       "      <th></th>\n",
       "      <th></th>\n",
       "      <th></th>\n",
       "    </tr>\n",
       "  </thead>\n",
       "  <tbody>\n",
       "    <tr>\n",
       "      <th>1</th>\n",
       "      <td>461.597222</td>\n",
       "      <td>0.629630</td>\n",
       "      <td>37.073708</td>\n",
       "      <td>0.416667</td>\n",
       "      <td>0.356481</td>\n",
       "      <td>86.102713</td>\n",
       "    </tr>\n",
       "    <tr>\n",
       "      <th>2</th>\n",
       "      <td>445.956522</td>\n",
       "      <td>0.472826</td>\n",
       "      <td>29.897833</td>\n",
       "      <td>0.402174</td>\n",
       "      <td>0.380435</td>\n",
       "      <td>21.335950</td>\n",
       "    </tr>\n",
       "    <tr>\n",
       "      <th>3</th>\n",
       "      <td>439.154786</td>\n",
       "      <td>0.242363</td>\n",
       "      <td>26.447422</td>\n",
       "      <td>0.615071</td>\n",
       "      <td>0.393075</td>\n",
       "      <td>13.786960</td>\n",
       "    </tr>\n",
       "  </tbody>\n",
       "</table>\n",
       "</div>"
      ],
      "text/plain": [
       "        PassengerId  Survived        Age     SibSp     Parch       Fare\n",
       "Pclass                                                                 \n",
       "1        461.597222  0.629630  37.073708  0.416667  0.356481  86.102713\n",
       "2        445.956522  0.472826  29.897833  0.402174  0.380435  21.335950\n",
       "3        439.154786  0.242363  26.447422  0.615071  0.393075  13.786960"
      ]
     },
     "execution_count": 24,
     "metadata": {},
     "output_type": "execute_result"
    }
   ],
   "source": [
    "titanic_ds.groupby(\"Pclass\").mean()# Pclass column wise average of other columns"
   ]
  },
  {
   "cell_type": "markdown",
   "id": "7684e99d",
   "metadata": {},
   "source": [
    "class 3rd passengers' were younger than other two class categories"
   ]
  },
  {
   "cell_type": "code",
   "execution_count": 25,
   "id": "b2849261",
   "metadata": {},
   "outputs": [
    {
     "data": {
      "text/html": [
       "<div>\n",
       "<style scoped>\n",
       "    .dataframe tbody tr th:only-of-type {\n",
       "        vertical-align: middle;\n",
       "    }\n",
       "\n",
       "    .dataframe tbody tr th {\n",
       "        vertical-align: top;\n",
       "    }\n",
       "\n",
       "    .dataframe thead th {\n",
       "        text-align: right;\n",
       "    }\n",
       "</style>\n",
       "<table border=\"1\" class=\"dataframe\">\n",
       "  <thead>\n",
       "    <tr style=\"text-align: right;\">\n",
       "      <th></th>\n",
       "      <th>PassengerId</th>\n",
       "      <th>Pclass</th>\n",
       "      <th>Age</th>\n",
       "      <th>SibSp</th>\n",
       "      <th>Parch</th>\n",
       "      <th>Fare</th>\n",
       "    </tr>\n",
       "    <tr>\n",
       "      <th>Survived</th>\n",
       "      <th></th>\n",
       "      <th></th>\n",
       "      <th></th>\n",
       "      <th></th>\n",
       "      <th></th>\n",
       "      <th></th>\n",
       "    </tr>\n",
       "  </thead>\n",
       "  <tbody>\n",
       "    <tr>\n",
       "      <th>0</th>\n",
       "      <td>447.016393</td>\n",
       "      <td>2.531876</td>\n",
       "      <td>30.562012</td>\n",
       "      <td>0.553734</td>\n",
       "      <td>0.329690</td>\n",
       "      <td>23.184869</td>\n",
       "    </tr>\n",
       "    <tr>\n",
       "      <th>1</th>\n",
       "      <td>444.368421</td>\n",
       "      <td>1.950292</td>\n",
       "      <td>28.410122</td>\n",
       "      <td>0.473684</td>\n",
       "      <td>0.464912</td>\n",
       "      <td>48.435395</td>\n",
       "    </tr>\n",
       "  </tbody>\n",
       "</table>\n",
       "</div>"
      ],
      "text/plain": [
       "          PassengerId    Pclass        Age     SibSp     Parch       Fare\n",
       "Survived                                                                 \n",
       "0          447.016393  2.531876  30.562012  0.553734  0.329690  23.184869\n",
       "1          444.368421  1.950292  28.410122  0.473684  0.464912  48.435395"
      ]
     },
     "execution_count": 25,
     "metadata": {},
     "output_type": "execute_result"
    }
   ],
   "source": [
    "titanic_ds.groupby(\"Survived\").mean()"
   ]
  },
  {
   "cell_type": "markdown",
   "id": "3c3b9049",
   "metadata": {},
   "source": [
    "# Univariate analysis"
   ]
  },
  {
   "cell_type": "code",
   "execution_count": 27,
   "id": "23861390",
   "metadata": {},
   "outputs": [],
   "source": [
    "def plot_hist(val):\n",
    "    plt.figure(figsize  =(5,5))\n",
    "    sns.distplot(titanic_ds[val],bins = 20)\n",
    "    plt.xlabel(\"Variable \")\n",
    "    plt.ylabel(\"Frequency\")\n",
    "    plt.title(f\"{val} distribution with hist\")"
   ]
  },
  {
   "cell_type": "code",
   "execution_count": 28,
   "id": "dd701139",
   "metadata": {},
   "outputs": [],
   "source": [
    "n_col = ['Age', 'Fare']"
   ]
  },
  {
   "cell_type": "code",
   "execution_count": 29,
   "id": "0205df02",
   "metadata": {},
   "outputs": [
    {
     "data": {
      "image/png": "[encoded data removed]",
      "text/plain": [
       "<Figure size 360x360 with 1 Axes>"
      ]
     },
     "metadata": {
      "needs_background": "light"
     },
     "output_type": "display_data"
    },
    {
     "data": {
      "image/png": "[encoded data removed]",
      "text/plain": [
       "<Figure size 360x360 with 1 Axes>"
      ]
     },
     "metadata": {
      "needs_background": "light"
     },
     "output_type": "display_data"
    }
   ],
   "source": [
    "for i in n_col:\n",
    "    plot_hist(i)"
   ]
  },
  {
   "cell_type": "markdown",
   "id": "0ae0e40f",
   "metadata": {},
   "source": [
    "Age and Fare both are right skewed distributon"
   ]
  },
  {
   "cell_type": "code",
   "execution_count": 31,
   "id": "f9e41e2e",
   "metadata": {},
   "outputs": [
    {
     "data": {
      "text/plain": [
       "<AxesSubplot:xlabel='Age'>"
      ]
     },
     "execution_count": 31,
     "metadata": {},
     "output_type": "execute_result"
    },
    {
     "data": {
      "image/png": "[encoded data removed]",
      "text/plain": [
       "<Figure size 432x288 with 1 Axes>"
      ]
     },
     "metadata": {
      "needs_background": "light"
     },
     "output_type": "display_data"
    }
   ],
   "source": [
    "\n",
    "sns.boxplot(titanic_ds[\"Age\"])"
   ]
  },
  {
   "cell_type": "code",
   "execution_count": 32,
   "id": "8d5e9769",
   "metadata": {},
   "outputs": [
    {
     "data": {
      "text/plain": [
       "<AxesSubplot:xlabel='Fare'>"
      ]
     },
     "execution_count": 32,
     "metadata": {},
     "output_type": "execute_result"
    },
    {
     "data": {
      "image/png": "[encoded data removed]",
      "text/plain": [
       "<Figure size 432x288 with 1 Axes>"
      ]
     },
     "metadata": {
      "needs_background": "light"
     },
     "output_type": "display_data"
    }
   ],
   "source": [
    "sns.boxplot(titanic_ds[\"Fare\"])\n"
   ]
  },
  {
   "cell_type": "markdown",
   "id": "e7e1e1a1",
   "metadata": {},
   "source": [
    "# Bivariate analysis"
   ]
  },
  {
   "cell_type": "code",
   "execution_count": 33,
   "id": "e000e368",
   "metadata": {},
   "outputs": [
    {
     "data": {
      "text/plain": [
       "<AxesSubplot:xlabel='Age', ylabel='Fare'>"
      ]
     },
     "execution_count": 33,
     "metadata": {},
     "output_type": "execute_result"
    },
    {
     "data": {
      "image/png": "[encoded data removed]",
      "text/plain": [
       "<Figure size 432x288 with 1 Axes>"
      ]
     },
     "metadata": {
      "needs_background": "light"
     },
     "output_type": "display_data"
    }
   ],
   "source": [
    "sns.scatterplot(x = \"Age\",y = \"Fare\", data = titanic_ds, hue = \"Sex\")\n"
   ]
  },
  {
   "cell_type": "markdown",
   "id": "140bcbfb",
   "metadata": {},
   "source": [
    "who paid above 100 pound maximum people survived"
   ]
  },
  {
   "cell_type": "markdown",
   "id": "b0796787",
   "metadata": {},
   "source": [
    "# Feature Transform or labeling"
   ]
  },
  {
   "cell_type": "code",
   "execution_count": 35,
   "id": "bcd0f48e",
   "metadata": {},
   "outputs": [],
   "source": [
    "# There are coluns which needs labeling here are those name \"Sex\" and \"emnarked\"\n",
    "\n",
    "# replacing male into 1 and female in 0\n",
    "titanic_ds[\"Sex\"]  = titanic_ds[\"Sex\"].replace({\"male\": 1,\"female\":0})\n",
    "    \n",
    "# replacing C into 0 and Q into 1 and S into 2\n",
    "titanic_ds[\"Embarked\"]  = titanic_ds[\"Embarked\"].replace({\"C\": 0,\"Q\":1,\"S\":2})"
   ]
  },
  {
   "cell_type": "code",
   "execution_count": 36,
   "id": "d28141b5",
   "metadata": {},
   "outputs": [],
   "source": [
    "# Column sibsp and parch are carrying the same information about the family. so we can merge them into 1 columns\n",
    "\n",
    "titanic_ds[\"Family_member\"] =titanic_ds[\"SibSp\"] +titanic_ds[\"Parch\"]  "
   ]
  },
  {
   "cell_type": "code",
   "execution_count": 37,
   "id": "18f790bc",
   "metadata": {},
   "outputs": [],
   "source": [
    "titanic_ds.drop(columns = [\"SibSp\",\"Parch\"],axis = 1, inplace = True)\n"
   ]
  },
  {
   "cell_type": "code",
   "execution_count": 38,
   "id": "9b3f0f2e",
   "metadata": {},
   "outputs": [
    {
     "data": {
      "text/html": [
       "<div>\n",
       "<style scoped>\n",
       "    .dataframe tbody tr th:only-of-type {\n",
       "        vertical-align: middle;\n",
       "    }\n",
       "\n",
       "    .dataframe tbody tr th {\n",
       "        vertical-align: top;\n",
       "    }\n",
       "\n",
       "    .dataframe thead th {\n",
       "        text-align: right;\n",
       "    }\n",
       "</style>\n",
       "<table border=\"1\" class=\"dataframe\">\n",
       "  <thead>\n",
       "    <tr style=\"text-align: right;\">\n",
       "      <th></th>\n",
       "      <th>PassengerId</th>\n",
       "      <th>Survived</th>\n",
       "      <th>Pclass</th>\n",
       "      <th>Name</th>\n",
       "      <th>Sex</th>\n",
       "      <th>Age</th>\n",
       "      <th>Ticket</th>\n",
       "      <th>Fare</th>\n",
       "      <th>Cabin</th>\n",
       "      <th>Embarked</th>\n",
       "      <th>Family_member</th>\n",
       "    </tr>\n",
       "  </thead>\n",
       "  <tbody>\n",
       "    <tr>\n",
       "      <th>0</th>\n",
       "      <td>1</td>\n",
       "      <td>0</td>\n",
       "      <td>3</td>\n",
       "      <td>Braund, Mr. Owen Harris</td>\n",
       "      <td>1</td>\n",
       "      <td>22.0</td>\n",
       "      <td>A/5 21171</td>\n",
       "      <td>7.2500</td>\n",
       "      <td>NaN</td>\n",
       "      <td>2</td>\n",
       "      <td>1</td>\n",
       "    </tr>\n",
       "    <tr>\n",
       "      <th>1</th>\n",
       "      <td>2</td>\n",
       "      <td>1</td>\n",
       "      <td>1</td>\n",
       "      <td>Cumings, Mrs. John Bradley (Florence Briggs Th...</td>\n",
       "      <td>0</td>\n",
       "      <td>38.0</td>\n",
       "      <td>PC 17599</td>\n",
       "      <td>71.2833</td>\n",
       "      <td>C85</td>\n",
       "      <td>0</td>\n",
       "      <td>1</td>\n",
       "    </tr>\n",
       "    <tr>\n",
       "      <th>2</th>\n",
       "      <td>3</td>\n",
       "      <td>1</td>\n",
       "      <td>3</td>\n",
       "      <td>Heikkinen, Miss. Laina</td>\n",
       "      <td>0</td>\n",
       "      <td>26.0</td>\n",
       "      <td>STON/O2. 3101282</td>\n",
       "      <td>7.9250</td>\n",
       "      <td>NaN</td>\n",
       "      <td>2</td>\n",
       "      <td>0</td>\n",
       "    </tr>\n",
       "    <tr>\n",
       "      <th>3</th>\n",
       "      <td>4</td>\n",
       "      <td>1</td>\n",
       "      <td>1</td>\n",
       "      <td>Futrelle, Mrs. Jacques Heath (Lily May Peel)</td>\n",
       "      <td>0</td>\n",
       "      <td>35.0</td>\n",
       "      <td>113803</td>\n",
       "      <td>53.1000</td>\n",
       "      <td>C123</td>\n",
       "      <td>2</td>\n",
       "      <td>1</td>\n",
       "    </tr>\n",
       "    <tr>\n",
       "      <th>4</th>\n",
       "      <td>5</td>\n",
       "      <td>0</td>\n",
       "      <td>3</td>\n",
       "      <td>Allen, Mr. William Henry</td>\n",
       "      <td>1</td>\n",
       "      <td>35.0</td>\n",
       "      <td>373450</td>\n",
       "      <td>8.0500</td>\n",
       "      <td>NaN</td>\n",
       "      <td>2</td>\n",
       "      <td>0</td>\n",
       "    </tr>\n",
       "  </tbody>\n",
       "</table>\n",
       "</div>"
      ],
      "text/plain": [
       "   PassengerId  Survived  Pclass  \\\n",
       "0            1         0       3   \n",
       "1            2         1       1   \n",
       "2            3         1       3   \n",
       "3            4         1       1   \n",
       "4            5         0       3   \n",
       "\n",
       "                                                Name  Sex   Age  \\\n",
       "0                            Braund, Mr. Owen Harris    1  22.0   \n",
       "1  Cumings, Mrs. John Bradley (Florence Briggs Th...    0  38.0   \n",
       "2                             Heikkinen, Miss. Laina    0  26.0   \n",
       "3       Futrelle, Mrs. Jacques Heath (Lily May Peel)    0  35.0   \n",
       "4                           Allen, Mr. William Henry    1  35.0   \n",
       "\n",
       "             Ticket     Fare Cabin  Embarked  Family_member  \n",
       "0         A/5 21171   7.2500   NaN         2              1  \n",
       "1          PC 17599  71.2833   C85         0              1  \n",
       "2  STON/O2. 3101282   7.9250   NaN         2              0  \n",
       "3            113803  53.1000  C123         2              1  \n",
       "4            373450   8.0500   NaN         2              0  "
      ]
     },
     "execution_count": 38,
     "metadata": {},
     "output_type": "execute_result"
    }
   ],
   "source": [
    "titanic_ds.head()\n"
   ]
  },
  {
   "cell_type": "markdown",
   "id": "052b5a0c",
   "metadata": {},
   "source": [
    "Observation\n",
    "have transformed Sex and Embarked columns into nominal category. SibSp and Parch columns are having same information about the family thus we have club both of them into one.\n",
    "We have name, ticket and cabin columns which also needs deleting, name is string and ticket is mix of string and number. encoding will no make any sense"
   ]
  },
  {
   "cell_type": "code",
   "execution_count": 39,
   "id": "f8ba21e8",
   "metadata": {},
   "outputs": [],
   "source": [
    "titanic_ds.drop(columns = [\"Name\",\"Ticket\",\"Cabin\"], axis = 1, inplace = True)\n"
   ]
  },
  {
   "cell_type": "code",
   "execution_count": 40,
   "id": "e1896b12",
   "metadata": {},
   "outputs": [
    {
     "data": {
      "text/html": [
       "<div>\n",
       "<style scoped>\n",
       "    .dataframe tbody tr th:only-of-type {\n",
       "        vertical-align: middle;\n",
       "    }\n",
       "\n",
       "    .dataframe tbody tr th {\n",
       "        vertical-align: top;\n",
       "    }\n",
       "\n",
       "    .dataframe thead th {\n",
       "        text-align: right;\n",
       "    }\n",
       "</style>\n",
       "<table border=\"1\" class=\"dataframe\">\n",
       "  <thead>\n",
       "    <tr style=\"text-align: right;\">\n",
       "      <th></th>\n",
       "      <th>PassengerId</th>\n",
       "      <th>Survived</th>\n",
       "      <th>Pclass</th>\n",
       "      <th>Sex</th>\n",
       "      <th>Age</th>\n",
       "      <th>Fare</th>\n",
       "      <th>Embarked</th>\n",
       "      <th>Family_member</th>\n",
       "    </tr>\n",
       "  </thead>\n",
       "  <tbody>\n",
       "    <tr>\n",
       "      <th>0</th>\n",
       "      <td>1</td>\n",
       "      <td>0</td>\n",
       "      <td>3</td>\n",
       "      <td>1</td>\n",
       "      <td>22.000000</td>\n",
       "      <td>7.2500</td>\n",
       "      <td>2</td>\n",
       "      <td>1</td>\n",
       "    </tr>\n",
       "    <tr>\n",
       "      <th>1</th>\n",
       "      <td>2</td>\n",
       "      <td>1</td>\n",
       "      <td>1</td>\n",
       "      <td>0</td>\n",
       "      <td>38.000000</td>\n",
       "      <td>71.2833</td>\n",
       "      <td>0</td>\n",
       "      <td>1</td>\n",
       "    </tr>\n",
       "    <tr>\n",
       "      <th>2</th>\n",
       "      <td>3</td>\n",
       "      <td>1</td>\n",
       "      <td>3</td>\n",
       "      <td>0</td>\n",
       "      <td>26.000000</td>\n",
       "      <td>7.9250</td>\n",
       "      <td>2</td>\n",
       "      <td>0</td>\n",
       "    </tr>\n",
       "    <tr>\n",
       "      <th>3</th>\n",
       "      <td>4</td>\n",
       "      <td>1</td>\n",
       "      <td>1</td>\n",
       "      <td>0</td>\n",
       "      <td>35.000000</td>\n",
       "      <td>53.1000</td>\n",
       "      <td>2</td>\n",
       "      <td>1</td>\n",
       "    </tr>\n",
       "    <tr>\n",
       "      <th>4</th>\n",
       "      <td>5</td>\n",
       "      <td>0</td>\n",
       "      <td>3</td>\n",
       "      <td>1</td>\n",
       "      <td>35.000000</td>\n",
       "      <td>8.0500</td>\n",
       "      <td>2</td>\n",
       "      <td>0</td>\n",
       "    </tr>\n",
       "    <tr>\n",
       "      <th>5</th>\n",
       "      <td>6</td>\n",
       "      <td>0</td>\n",
       "      <td>3</td>\n",
       "      <td>1</td>\n",
       "      <td>30.726645</td>\n",
       "      <td>8.4583</td>\n",
       "      <td>1</td>\n",
       "      <td>0</td>\n",
       "    </tr>\n",
       "    <tr>\n",
       "      <th>6</th>\n",
       "      <td>7</td>\n",
       "      <td>0</td>\n",
       "      <td>1</td>\n",
       "      <td>1</td>\n",
       "      <td>54.000000</td>\n",
       "      <td>51.8625</td>\n",
       "      <td>2</td>\n",
       "      <td>0</td>\n",
       "    </tr>\n",
       "    <tr>\n",
       "      <th>7</th>\n",
       "      <td>8</td>\n",
       "      <td>0</td>\n",
       "      <td>3</td>\n",
       "      <td>1</td>\n",
       "      <td>2.000000</td>\n",
       "      <td>21.0750</td>\n",
       "      <td>2</td>\n",
       "      <td>4</td>\n",
       "    </tr>\n",
       "    <tr>\n",
       "      <th>8</th>\n",
       "      <td>9</td>\n",
       "      <td>1</td>\n",
       "      <td>3</td>\n",
       "      <td>0</td>\n",
       "      <td>27.000000</td>\n",
       "      <td>11.1333</td>\n",
       "      <td>2</td>\n",
       "      <td>2</td>\n",
       "    </tr>\n",
       "    <tr>\n",
       "      <th>9</th>\n",
       "      <td>10</td>\n",
       "      <td>1</td>\n",
       "      <td>2</td>\n",
       "      <td>0</td>\n",
       "      <td>14.000000</td>\n",
       "      <td>30.0708</td>\n",
       "      <td>0</td>\n",
       "      <td>1</td>\n",
       "    </tr>\n",
       "  </tbody>\n",
       "</table>\n",
       "</div>"
      ],
      "text/plain": [
       "   PassengerId  Survived  Pclass  Sex        Age     Fare  Embarked  \\\n",
       "0            1         0       3    1  22.000000   7.2500         2   \n",
       "1            2         1       1    0  38.000000  71.2833         0   \n",
       "2            3         1       3    0  26.000000   7.9250         2   \n",
       "3            4         1       1    0  35.000000  53.1000         2   \n",
       "4            5         0       3    1  35.000000   8.0500         2   \n",
       "5            6         0       3    1  30.726645   8.4583         1   \n",
       "6            7         0       1    1  54.000000  51.8625         2   \n",
       "7            8         0       3    1   2.000000  21.0750         2   \n",
       "8            9         1       3    0  27.000000  11.1333         2   \n",
       "9           10         1       2    0  14.000000  30.0708         0   \n",
       "\n",
       "   Family_member  \n",
       "0              1  \n",
       "1              1  \n",
       "2              0  \n",
       "3              1  \n",
       "4              0  \n",
       "5              0  \n",
       "6              0  \n",
       "7              4  \n",
       "8              2  \n",
       "9              1  "
      ]
     },
     "execution_count": 40,
     "metadata": {},
     "output_type": "execute_result"
    }
   ],
   "source": [
    "titanic_ds.head(10)\n"
   ]
  },
  {
   "cell_type": "markdown",
   "id": "614aed00",
   "metadata": {},
   "source": [
    "# Modeling\n"
   ]
  },
  {
   "cell_type": "code",
   "execution_count": 41,
   "id": "ed329d3f",
   "metadata": {},
   "outputs": [],
   "source": [
    "# seprate data into train and test and importing some important library\n",
    "\n",
    "from sklearn.model_selection import train_test_split, GridSearchCV, cross_val_score\n",
    "from sklearn.linear_model import LogisticRegression\n",
    "from sklearn.tree import DecisionTreeClassifier\n",
    "from sklearn.ensemble import RandomForestClassifier\n",
    "from sklearn.ensemble  import AdaBoostClassifier\n",
    "from sklearn.neighbors import KNeighborsClassifier\n",
    "from sklearn.svm import SVC\n",
    "from sklearn.metrics import roc_auc_score, accuracy_score, confusion_matrix, classification_report"
   ]
  },
  {
   "cell_type": "code",
   "execution_count": 42,
   "id": "07bc29d6",
   "metadata": {},
   "outputs": [
    {
     "name": "stdout",
     "output_type": "stream",
     "text": [
      "Train score 0.7851123595505618\n",
      "Test score 0.8659217877094972\n",
      "ROC_Score LogisticRegression() 0.8639162561576355\n",
      "confusion_matrix LogisticRegression() \n",
      " [[101  15]\n",
      " [  9  54]]\n",
      "classification_report  LogisticRegression() \n",
      "               precision    recall  f1-score   support\n",
      "\n",
      "           0       0.92      0.87      0.89       116\n",
      "           1       0.78      0.86      0.82        63\n",
      "\n",
      "    accuracy                           0.87       179\n",
      "   macro avg       0.85      0.86      0.86       179\n",
      "weighted avg       0.87      0.87      0.87       179\n",
      "\n",
      "Train score 1.0\n",
      "Test score 0.7653631284916201\n",
      "ROC_Score DecisionTreeClassifier() 0.7536945812807883\n",
      "confusion_matrix DecisionTreeClassifier() \n",
      " [[92 24]\n",
      " [18 45]]\n",
      "classification_report  DecisionTreeClassifier() \n",
      "               precision    recall  f1-score   support\n",
      "\n",
      "           0       0.84      0.79      0.81       116\n",
      "           1       0.65      0.71      0.68        63\n",
      "\n",
      "    accuracy                           0.77       179\n",
      "   macro avg       0.74      0.75      0.75       179\n",
      "weighted avg       0.77      0.77      0.77       179\n",
      "\n",
      "Train score 1.0\n",
      "Test score 0.8659217877094972\n",
      "ROC_Score RandomForestClassifier() 0.8779325513196481\n",
      "confusion_matrix RandomForestClassifier() \n",
      " [[105  19]\n",
      " [  5  50]]\n",
      "classification_report  RandomForestClassifier() \n",
      "               precision    recall  f1-score   support\n",
      "\n",
      "           0       0.95      0.85      0.90       124\n",
      "           1       0.72      0.91      0.81        55\n",
      "\n",
      "    accuracy                           0.87       179\n",
      "   macro avg       0.84      0.88      0.85       179\n",
      "weighted avg       0.88      0.87      0.87       179\n",
      "\n",
      "Train score 0.827247191011236\n",
      "Test score 0.8547486033519553\n",
      "ROC_Score AdaBoostClassifier() 0.8479477611940298\n",
      "confusion_matrix AdaBoostClassifier() \n",
      " [[98 14]\n",
      " [12 55]]\n",
      "classification_report  AdaBoostClassifier() \n",
      "               precision    recall  f1-score   support\n",
      "\n",
      "           0       0.89      0.88      0.88       112\n",
      "           1       0.80      0.82      0.81        67\n",
      "\n",
      "    accuracy                           0.85       179\n",
      "   macro avg       0.84      0.85      0.85       179\n",
      "weighted avg       0.86      0.85      0.86       179\n",
      "\n",
      "Train score 0.851123595505618\n",
      "Test score 0.8491620111731844\n",
      "ROC_Score KNeighborsClassifier() 0.8493697478991596\n",
      "confusion_matrix KNeighborsClassifier() \n",
      " [[101  18]\n",
      " [  9  51]]\n",
      "classification_report  KNeighborsClassifier() \n",
      "               precision    recall  f1-score   support\n",
      "\n",
      "           0       0.92      0.85      0.88       119\n",
      "           1       0.74      0.85      0.79        60\n",
      "\n",
      "    accuracy                           0.85       179\n",
      "   macro avg       0.83      0.85      0.84       179\n",
      "weighted avg       0.86      0.85      0.85       179\n",
      "\n",
      "Train score 0.8300561797752809\n",
      "Test score 0.8603351955307262\n",
      "ROC_Score SVC() 0.8788612961841309\n",
      "confusion_matrix SVC() \n",
      " [[106  21]\n",
      " [  4  48]]\n",
      "classification_report  SVC() \n",
      "               precision    recall  f1-score   support\n",
      "\n",
      "           0       0.96      0.83      0.89       127\n",
      "           1       0.70      0.92      0.79        52\n",
      "\n",
      "    accuracy                           0.86       179\n",
      "   macro avg       0.83      0.88      0.84       179\n",
      "weighted avg       0.89      0.86      0.87       179\n",
      "\n"
     ]
    }
   ],
   "source": [
    "X = titanic_ds.drop(columns = \"Survived\", axis = 1)\n",
    "y = titanic_ds[\"Survived\"]\n",
    "\n",
    "\n",
    "sc = StandardScaler()\n",
    "\n",
    "X = sc.fit_transform(X) # Applying standard scaler for standarized the X values\n",
    "\n",
    "# Spliting into train & test \n",
    "\n",
    "X_train,X_test, y_train,y_test = train_test_split(X,y, test_size = .20, random_state =150)\n",
    "\n",
    "models = [LogisticRegression(),DecisionTreeClassifier(),RandomForestClassifier(),AdaBoostClassifier(),KNeighborsClassifier(),SVC()]\n",
    "\n",
    "for model in models:\n",
    "    model.fit(X_train,y_train)\n",
    "    print(\"Train score\",model.score(X_train,y_train))\n",
    "    pred = model.predict(X_test)\n",
    "    print(\"Test score\",model.score(X_test,y_test))\n",
    "    print(\"ROC_Score\", model,roc_auc_score(pred,y_test))\n",
    "    print(\"confusion_matrix\", model,\"\\n\",confusion_matrix(pred,y_test))\n",
    "    print(\"classification_report \", model,\"\\n\",classification_report(pred,y_test))"
   ]
  },
  {
   "cell_type": "markdown",
   "id": "5669b864",
   "metadata": {},
   "source": [
    "Randomforest, Adaboost and Logisticregresion are producing good auc score along with good F1 score, so we are taking and selecting the logistic regression algorithm as Final MLA.\n",
    "will apply Grid searchCV for best parameter finding."
   ]
  },
  {
   "cell_type": "code",
   "execution_count": 44,
   "id": "9d716319",
   "metadata": {},
   "outputs": [
    {
     "data": {
      "text/plain": [
       "{'C': 0.4, 'max_iter': 200, 'penalty': 'l1', 'solver': 'saga'}"
      ]
     },
     "execution_count": 44,
     "metadata": {},
     "output_type": "execute_result"
    }
   ],
   "source": [
    "LR = LogisticRegression()\n",
    "\n",
    "parameter = {\"penalty\" : ['l1', 'l2', 'elasticnet'],\n",
    "    \"solver\" : ['newton-cg', 'lbfgs', 'liblinear', 'sag', 'saga'],\n",
    "    \"C\" : [0.2,0.4,0.6,0.8,1],\n",
    "    \"max_iter\":[100,200,300,400]}\n",
    "\n",
    "grid_cv = GridSearchCV(LR,parameter,cv =5,scoring= \"f1\")\n",
    "grid_cv.fit(X_train,y_train)\n",
    "grid_cv.best_params_"
   ]
  },
  {
   "cell_type": "code",
   "execution_count": 45,
   "id": "935ee858",
   "metadata": {},
   "outputs": [
    {
     "name": "stdout",
     "output_type": "stream",
     "text": [
      "mean 0.7946127946127945 STD  0.02935285483865775\n"
     ]
    }
   ],
   "source": [
    "grid_LR = LogisticRegression(C= 0.4, max_iter= 100, penalty ='l1', solver = 'saga')\n",
    "for i in range(2,10):\n",
    "    cross_val = cross_val_score(grid_LR,X,y ,cv=i)\n",
    "print(\"mean\",cross_val.mean(), \"STD \", cross_val.std())"
   ]
  },
  {
   "cell_type": "markdown",
   "id": "6720f30a",
   "metadata": {},
   "source": [
    "# AUG ROC curve"
   ]
  },
  {
   "cell_type": "code",
   "execution_count": 46,
   "id": "ef395b78",
   "metadata": {},
   "outputs": [],
   "source": [
    "grid_LR = LogisticRegression(C= 0.4, max_iter= 100, penalty ='l1', solver = 'saga')\n",
    "grid_LR.fit(X,y)\n",
    "\n",
    "proba = grid_LR.predict_proba(X)[:,1]\n",
    "\n",
    "from sklearn.metrics import roc_curve\n",
    "\n",
    "fpr, tpr, threshold = roc_curve(y,proba)"
   ]
  },
  {
   "cell_type": "code",
   "execution_count": 47,
   "id": "6ee21f57",
   "metadata": {},
   "outputs": [
    {
     "data": {
      "text/plain": [
       "Text(0, 0.5, 'TPR')"
      ]
     },
     "execution_count": 47,
     "metadata": {},
     "output_type": "execute_result"
    },
    {
     "data": {
      "image/png": "[encoded data removed]",
      "text/plain": [
       "<Figure size 432x288 with 1 Axes>"
      ]
     },
     "metadata": {
      "needs_background": "light"
     },
     "output_type": "display_data"
    }
   ],
   "source": [
    "plt.plot([0,1],[0,1],\"k--\")\n",
    "plt.plot(fpr,tpr,label = \"AUC Curve\")\n",
    "plt.xlabel(\"FPR\")\n",
    "plt.ylabel(\"TPR\")"
   ]
  },
  {
   "cell_type": "markdown",
   "id": "3b2539c1",
   "metadata": {},
   "source": [
    "# The  End"
   ]
  },
  {
   "cell_type": "code",
   "execution_count": null,
   "id": "acebffa8",
   "metadata": {},
   "outputs": [],
   "source": []
  }
 ],
 "metadata": {
  "kernelspec": {
   "display_name": "Python 3 (ipykernel)",
   "language": "python",
   "name": "python3"
  },
  "language_info": {
   "codemirror_mode": {
    "name": "ipython",
    "version": 3
   },
   "file_extension": ".py",
   "mimetype": "text/x-python",
   "name": "python",
   "nbconvert_exporter": "python",
   "pygments_lexer": "ipython3",
   "version": "3.8.8"
  }
 },
 "nbformat": 4,
 "nbformat_minor": 5
}
